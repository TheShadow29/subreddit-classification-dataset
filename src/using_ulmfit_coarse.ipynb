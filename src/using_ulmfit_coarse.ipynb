{
 "cells": [
  {
   "cell_type": "code",
   "execution_count": 1,
   "metadata": {},
   "outputs": [],
   "source": [
    "from fastai import *\n",
    "from fastai.text import *"
   ]
  },
  {
   "cell_type": "code",
   "execution_count": 2,
   "metadata": {},
   "outputs": [],
   "source": [
    "path = Path('./tmp')"
   ]
  },
  {
   "cell_type": "code",
   "execution_count": 3,
   "metadata": {},
   "outputs": [],
   "source": [
    "train_df = pd.read_csv('../data/coarse_grained_train.csv')\n",
    "val_df = pd.read_csv('../data/coarse_grained_val.csv')"
   ]
  },
  {
   "cell_type": "code",
   "execution_count": 4,
   "metadata": {},
   "outputs": [],
   "source": [
    "data_lm = TextLMDataBunch.from_df(path=path, train_df=train_df, valid_df=val_df)"
   ]
  },
  {
   "cell_type": "code",
   "execution_count": 5,
   "metadata": {},
   "outputs": [],
   "source": [
    "# data_clas = TextClasDataBunch.from_csv(path, 'texts.csv', vocab=data_lm.train_ds.vocab, bs=42)\n",
    "data_clas = TextClasDataBunch.from_df(path=path, train_df=train_df, valid_df=val_df, \n",
    "                                      vocab=data_lm.train_ds.vocab, bs=42)"
   ]
  },
  {
   "cell_type": "code",
   "execution_count": 6,
   "metadata": {},
   "outputs": [],
   "source": [
    "moms = (0.8,0.7)"
   ]
  },
  {
   "cell_type": "code",
   "execution_count": 7,
   "metadata": {},
   "outputs": [],
   "source": [
    "learn = language_model_learner(data_lm, pretrained_model=URLs.WT103)"
   ]
  },
  {
   "cell_type": "code",
   "execution_count": 8,
   "metadata": {},
   "outputs": [
    {
     "name": "stdout",
     "output_type": "stream",
     "text": [
      "Total time: 00:55\n",
      "epoch  train_loss  valid_loss  accuracy\n",
      "1      5.053025    4.262637    0.299198  (00:07)\n",
      "2      4.631272    4.057038    0.314036  (00:06)\n",
      "3      4.378491    3.995915    0.317316  (00:06)\n",
      "4      4.153006    3.941771    0.323084  (00:06)\n",
      "5      3.961272    3.921472    0.324250  (00:06)\n",
      "6      3.778102    3.913772    0.326326  (00:07)\n",
      "7      3.633360    3.915882    0.326605  (00:06)\n",
      "8      3.544571    3.919386    0.326385  (00:07)\n",
      "\n"
     ]
    }
   ],
   "source": [
    "learn.unfreeze()\n",
    "learn.fit_one_cycle(8, slice(1e-2), moms=moms)"
   ]
  },
  {
   "cell_type": "code",
   "execution_count": 9,
   "metadata": {},
   "outputs": [],
   "source": [
    "learn.save('lang_model_coarse')"
   ]
  },
  {
   "cell_type": "code",
   "execution_count": 10,
   "metadata": {},
   "outputs": [],
   "source": [
    "learn.save_encoder('enc_coarse')"
   ]
  },
  {
   "cell_type": "code",
   "execution_count": 13,
   "metadata": {},
   "outputs": [],
   "source": [
    "learn = text_classifier_learner(data_clas)\n",
    "learn.load_encoder('enc_coarse')"
   ]
  },
  {
   "cell_type": "code",
   "execution_count": null,
   "metadata": {},
   "outputs": [],
   "source": [
    "# learn.model = torch.nn.DataParallel(learn.model)"
   ]
  },
  {
   "cell_type": "code",
   "execution_count": null,
   "metadata": {},
   "outputs": [],
   "source": [
    "# learn.model.reset = learn.model.module.reset"
   ]
  },
  {
   "cell_type": "code",
   "execution_count": 14,
   "metadata": {},
   "outputs": [
    {
     "name": "stdout",
     "output_type": "stream",
     "text": [
      "Total time: 02:56\n",
      "epoch  train_loss  valid_loss  accuracy\n",
      "1      1.793496    1.260332    0.637647  (00:10)\n",
      "2      1.599148    1.069381    0.671176  (00:11)\n",
      "3      1.572505    1.042914    0.674706  (00:10)\n",
      "4      1.554629    1.014935    0.684706  (00:10)\n",
      "5      1.549211    0.999982    0.690196  (00:11)\n",
      "6      1.456460    1.006160    0.679804  (00:10)\n",
      "7      1.423742    0.975556    0.700000  (00:11)\n",
      "8      1.452530    1.009058    0.683333  (00:10)\n",
      "9      1.451603    0.965559    0.699216  (00:11)\n",
      "10     1.451618    0.950633    0.699216  (00:11)\n",
      "11     1.396551    0.935571    0.705294  (00:11)\n",
      "12     1.401375    0.926100    0.708039  (00:11)\n",
      "13     1.407060    0.930590    0.710392  (00:10)\n",
      "14     1.389436    0.922493    0.710196  (00:10)\n",
      "15     1.401910    0.930896    0.706863  (00:11)\n",
      "16     1.432370    0.921795    0.712353  (00:11)\n",
      "\n"
     ]
    }
   ],
   "source": [
    "learn.freeze()\n",
    "learn.fit_one_cycle(16, moms=moms)"
   ]
  },
  {
   "cell_type": "code",
   "execution_count": 15,
   "metadata": {},
   "outputs": [
    {
     "name": "stdout",
     "output_type": "stream",
     "text": [
      "Total time: 00:44\n",
      "epoch  train_loss  valid_loss  accuracy\n",
      "1      1.494922    0.929489    0.711569  (00:10)\n",
      "2      1.463700    0.933969    0.711373  (00:11)\n",
      "3      1.387198    0.923517    0.713726  (00:11)\n",
      "4      1.500307    0.925220    0.711961  (00:11)\n",
      "\n"
     ]
    }
   ],
   "source": [
    "learn.fit_one_cycle(4, moms=moms)"
   ]
  },
  {
   "cell_type": "code",
   "execution_count": null,
   "metadata": {},
   "outputs": [],
   "source": [
    "learn.fit_one_cycle(40, moms=moms)"
   ]
  },
  {
   "cell_type": "code",
   "execution_count": 16,
   "metadata": {},
   "outputs": [],
   "source": [
    "learn.save('underfit_26nov18')"
   ]
  },
  {
   "cell_type": "code",
   "execution_count": 17,
   "metadata": {},
   "outputs": [
    {
     "name": "stdout",
     "output_type": "stream",
     "text": [
      "Total time: 02:51\n",
      "epoch  train_loss  valid_loss  accuracy\n",
      "1      1.327612    0.918238    0.713137  (00:20)\n",
      "2      1.336993    0.895284    0.722549  (00:20)\n",
      "3      1.374256    0.884137    0.718627  (00:20)\n",
      "4      1.329533    0.874405    0.727451  (00:22)\n",
      "5      1.230628    0.850474    0.736471  (00:22)\n",
      "6      1.210448    0.848724    0.731961  (00:20)\n",
      "7      1.228600    0.842898    0.736471  (00:22)\n",
      "8      1.170544    0.843885    0.731961  (00:21)\n",
      "\n"
     ]
    }
   ],
   "source": [
    "learn.unfreeze()\n",
    "learn.fit_one_cycle(8, slice(1e-5,1e-3), moms=moms)"
   ]
  },
  {
   "cell_type": "code",
   "execution_count": 18,
   "metadata": {},
   "outputs": [
    {
     "name": "stdout",
     "output_type": "stream",
     "text": [
      "Total time: 05:17\n",
      "epoch  train_loss  valid_loss  accuracy\n",
      "1      1.239001    0.853024    0.731176  (00:21)\n",
      "2      1.241977    0.848127    0.736471  (00:20)\n",
      "3      1.214279    0.834010    0.736863  (00:22)\n",
      "4      1.107312    0.818532    0.746275  (00:19)\n",
      "5      1.208954    0.809466    0.749804  (00:19)\n",
      "6      1.106617    0.798180    0.753333  (00:22)\n",
      "7      1.089505    0.791201    0.757255  (00:20)\n",
      "8      1.105067    0.795324    0.756078  (00:23)\n",
      "9      1.056668    0.785967    0.756863  (00:20)\n",
      "10     1.069783    0.777074    0.758431  (00:22)\n",
      "11     1.045633    0.769636    0.762353  (00:19)\n",
      "12     1.008764    0.770597    0.762745  (00:22)\n",
      "13     1.039797    0.769491    0.761961  (00:21)\n",
      "14     1.021273    0.766319    0.763726  (00:20)\n",
      "15     1.087696    0.770190    0.762549  (00:20)\n",
      "\n"
     ]
    }
   ],
   "source": [
    "learn.fit_one_cycle(15, slice(1e-5,1e-3), moms=moms)"
   ]
  },
  {
   "cell_type": "code",
   "execution_count": 19,
   "metadata": {},
   "outputs": [
    {
     "name": "stdout",
     "output_type": "stream",
     "text": [
      "Total time: 02:55\n",
      "epoch  train_loss  valid_loss  accuracy\n",
      "1      1.082194    0.766022    0.763137  (00:21)\n",
      "2      1.047295    0.761595    0.764510  (00:21)\n",
      "3      1.055365    0.753699    0.767843  (00:23)\n",
      "4      1.029969    0.749623    0.768039  (00:21)\n",
      "5      1.033221    0.751410    0.770196  (00:22)\n",
      "6      0.979826    0.749361    0.772549  (00:22)\n",
      "7      0.907491    0.741003    0.771176  (00:22)\n",
      "8      0.965625    0.743324    0.772353  (00:20)\n",
      "\n"
     ]
    }
   ],
   "source": [
    "learn.fit_one_cycle(8, slice(1e-5, 1e-3), moms=moms)"
   ]
  },
  {
   "cell_type": "code",
   "execution_count": 20,
   "metadata": {},
   "outputs": [
    {
     "name": "stdout",
     "output_type": "stream",
     "text": [
      "Total time: 01:25\n",
      "epoch  train_loss  valid_loss  accuracy\n",
      "1      0.977804    0.750229    0.768824  (00:21)\n",
      "2      0.991106    0.747063    0.771765  (00:21)\n",
      "3      0.967821    0.731214    0.776667  (00:21)\n",
      "4      0.920028    0.731127    0.777255  (00:21)\n",
      "\n"
     ]
    }
   ],
   "source": [
    "learn.fit_one_cycle(4, slice(1e-5, 1e-3), moms=moms)"
   ]
  },
  {
   "cell_type": "code",
   "execution_count": 21,
   "metadata": {},
   "outputs": [
    {
     "name": "stdout",
     "output_type": "stream",
     "text": [
      "Total time: 05:22\n",
      "epoch  train_loss  valid_loss  accuracy\n",
      "1      0.993094    0.729156    0.775490  (00:22)\n",
      "2      0.954546    0.727873    0.776078  (00:21)\n",
      "3      0.938656    0.735273    0.780392  (00:20)\n",
      "4      0.926755    0.726117    0.778235  (00:22)\n",
      "5      0.914073    0.731965    0.774902  (00:20)\n",
      "6      0.924419    0.730081    0.776275  (00:21)\n",
      "7      0.927576    0.727866    0.774902  (00:21)\n",
      "8      0.860732    0.710757    0.782157  (00:21)\n",
      "9      0.928910    0.711531    0.781961  (00:21)\n",
      "10     0.866722    0.715727    0.782353  (00:22)\n",
      "11     0.908613    0.710204    0.785686  (00:22)\n",
      "12     0.889105    0.710106    0.783333  (00:21)\n",
      "13     0.859501    0.708254    0.785294  (00:20)\n",
      "14     0.902888    0.714273    0.784902  (00:20)\n",
      "15     0.851863    0.703957    0.785882  (00:20)\n",
      "\n"
     ]
    }
   ],
   "source": [
    "learn.fit_one_cycle(15, slice(1e-5, 1e-3), moms=moms)"
   ]
  },
  {
   "cell_type": "code",
   "execution_count": 22,
   "metadata": {},
   "outputs": [
    {
     "name": "stdout",
     "output_type": "stream",
     "text": [
      "Total time: 05:19\n",
      "epoch  train_loss  valid_loss  accuracy\n",
      "1      0.862675    0.710605    0.786471  (00:21)\n",
      "2      0.874341    0.706281    0.788039  (00:21)\n",
      "3      0.835389    0.709615    0.785098  (00:22)\n",
      "4      0.873325    0.701305    0.789216  (00:19)\n",
      "5      0.888378    0.713992    0.784902  (00:20)\n",
      "6      0.853535    0.699174    0.788824  (00:21)\n",
      "7      0.864997    0.709936    0.788431  (00:21)\n",
      "8      0.866887    0.697129    0.790196  (00:21)\n",
      "9      0.825567    0.699362    0.793137  (00:19)\n",
      "10     0.791191    0.700901    0.789216  (00:20)\n",
      "11     0.825645    0.690238    0.794706  (00:21)\n",
      "12     0.770144    0.689229    0.793529  (00:22)\n",
      "13     0.747858    0.690400    0.793333  (00:22)\n",
      "14     0.803987    0.691278    0.791961  (00:21)\n",
      "15     0.756021    0.700275    0.792157  (00:21)\n",
      "\n"
     ]
    }
   ],
   "source": [
    "learn.fit_one_cycle(15, slice(1e-5, 1e-3), moms=moms)"
   ]
  },
  {
   "cell_type": "code",
   "execution_count": 23,
   "metadata": {},
   "outputs": [
    {
     "name": "stdout",
     "output_type": "stream",
     "text": [
      "Total time: 10:50\n",
      "epoch  train_loss  valid_loss  accuracy\n",
      "1      0.840632    0.692657    0.793529  (00:22)\n",
      "2      0.813466    0.693469    0.795882  (00:22)\n",
      "3      0.783965    0.695999    0.792157  (00:21)\n",
      "4      0.767570    0.691708    0.796471  (00:22)\n",
      "5      0.800524    0.711260    0.787059  (00:20)\n",
      "6      0.738355    0.690043    0.792157  (00:22)\n",
      "7      0.773819    0.688504    0.797451  (00:21)\n",
      "8      0.766434    0.696235    0.792745  (00:21)\n",
      "9      0.858656    0.700588    0.794314  (00:21)\n",
      "10     0.781720    0.698767    0.792157  (00:23)\n",
      "11     0.781288    0.690484    0.795490  (00:20)\n",
      "12     0.818997    0.693133    0.796471  (00:22)\n",
      "13     0.758852    0.686401    0.794706  (00:19)\n",
      "14     0.787876    0.689544    0.793137  (00:21)\n",
      "15     0.754313    0.691229    0.798039  (00:22)\n",
      "16     0.779525    0.680594    0.796471  (00:22)\n",
      "17     0.712471    0.687583    0.795686  (00:21)\n",
      "18     0.721212    0.687390    0.792941  (00:20)\n",
      "19     0.672633    0.682855    0.799412  (00:21)\n",
      "20     0.722659    0.690613    0.796078  (00:20)\n",
      "21     0.690325    0.680669    0.800392  (00:20)\n",
      "22     0.695858    0.691445    0.798431  (00:22)\n",
      "23     0.623439    0.687317    0.800588  (00:21)\n",
      "24     0.687669    0.680993    0.798627  (00:20)\n",
      "25     0.682431    0.685723    0.799804  (00:20)\n",
      "26     0.649127    0.700013    0.797059  (00:22)\n",
      "27     0.675861    0.684246    0.799608  (00:20)\n",
      "28     0.671745    0.681727    0.797843  (00:21)\n",
      "29     0.637773    0.688390    0.801176  (00:21)\n",
      "30     0.666693    0.683118    0.799412  (00:22)\n",
      "\n"
     ]
    }
   ],
   "source": [
    "learn.fit_one_cycle(30, slice(1e-5, 1e-3), moms=moms)"
   ]
  },
  {
   "cell_type": "code",
   "execution_count": 24,
   "metadata": {},
   "outputs": [],
   "source": [
    "learn.save('just_fit_coarse_26nov18')"
   ]
  },
  {
   "cell_type": "code",
   "execution_count": 25,
   "metadata": {},
   "outputs": [
    {
     "name": "stdout",
     "output_type": "stream",
     "text": [
      "Total time: 02:50\n",
      "epoch  train_loss  valid_loss  accuracy\n",
      "1      0.708609    0.731808    0.787647  (00:22)\n",
      "2      0.907936    0.741122    0.775098  (00:20)\n",
      "3      0.885251    0.770479    0.769412  (00:20)\n",
      "4      0.921126    0.734459    0.779020  (00:20)\n",
      "5      0.788168    0.741034    0.780588  (00:22)\n",
      "6      0.687633    0.707242    0.790980  (00:22)\n",
      "7      0.669865    0.690611    0.795686  (00:21)\n",
      "8      0.701502    0.699968    0.797647  (00:20)\n",
      "\n"
     ]
    }
   ],
   "source": [
    "learn.fit_one_cycle(8, slice(1e-4, 1e-2), moms=moms)"
   ]
  },
  {
   "cell_type": "code",
   "execution_count": 26,
   "metadata": {},
   "outputs": [
    {
     "name": "stdout",
     "output_type": "stream",
     "text": [
      "Total time: 01:23\n",
      "epoch  train_loss  valid_loss  accuracy\n",
      "1      0.650325    0.684967    0.796471  (00:20)\n",
      "2      0.683096    0.700459    0.794510  (00:22)\n",
      "3      0.657116    0.691821    0.800000  (00:20)\n",
      "4      0.588556    0.693535    0.797647  (00:20)\n",
      "\n"
     ]
    }
   ],
   "source": [
    "learn.fit_one_cycle(4, slice(1e-5, 1e-3), moms=moms)"
   ]
  },
  {
   "cell_type": "code",
   "execution_count": 27,
   "metadata": {},
   "outputs": [
    {
     "name": "stdout",
     "output_type": "stream",
     "text": [
      "Total time: 01:26\n",
      "epoch  train_loss  valid_loss  accuracy\n",
      "1      0.639739    0.690683    0.798627  (00:20)\n",
      "2      0.594728    0.700769    0.797451  (00:20)\n",
      "3      0.608620    0.684501    0.802745  (00:22)\n",
      "4      0.615371    0.697181    0.797647  (00:22)\n",
      "\n"
     ]
    }
   ],
   "source": [
    "learn.fit_one_cycle(4, slice(1e-5, 1e-3), moms=moms)"
   ]
  },
  {
   "cell_type": "code",
   "execution_count": 28,
   "metadata": {},
   "outputs": [
    {
     "name": "stdout",
     "output_type": "stream",
     "text": [
      "Total time: 01:04\n",
      "epoch  train_loss  valid_loss  accuracy\n",
      "1      0.592462    0.689630    0.800000  (00:20)\n",
      "2      0.599400    0.688498    0.801373  (00:22)\n",
      "3      0.580587    0.688109    0.800392  (00:22)\n",
      "\n"
     ]
    }
   ],
   "source": [
    "learn.fit(epochs=3, lr=1e-4)"
   ]
  },
  {
   "cell_type": "code",
   "execution_count": 29,
   "metadata": {},
   "outputs": [
    {
     "name": "stdout",
     "output_type": "stream",
     "text": [
      "Total time: 01:05\n",
      "epoch  train_loss  valid_loss  accuracy\n",
      "1      0.562357    0.686302    0.801176  (00:20)\n",
      "2      0.591887    0.680921    0.799804  (00:22)\n",
      "3      0.581953    0.684337    0.799804  (00:22)\n",
      "\n"
     ]
    }
   ],
   "source": [
    "learn.fit(epochs=3, lr=1e-5)"
   ]
  },
  {
   "cell_type": "code",
   "execution_count": 30,
   "metadata": {},
   "outputs": [
    {
     "name": "stdout",
     "output_type": "stream",
     "text": [
      "Total time: 03:27\n",
      "epoch  train_loss  valid_loss  accuracy\n",
      "1      0.578455    0.688992    0.800588  (00:20)\n",
      "2      0.598716    0.693523    0.798235  (00:22)\n",
      "3      0.499238    0.686881    0.798039  (00:20)\n",
      "4      0.546805    0.689139    0.799216  (00:19)\n",
      "5      0.581102    0.688064    0.801961  (00:20)\n",
      "6      0.531900    0.694203    0.798627  (00:21)\n",
      "7      0.545186    0.684784    0.797059  (00:20)\n",
      "8      0.486212    0.691850    0.804118  (00:20)\n",
      "9      0.536623    0.697220    0.800784  (00:19)\n",
      "10     0.545729    0.698700    0.799804  (00:21)\n",
      "\n"
     ]
    }
   ],
   "source": [
    "learn.fit(epochs=10, lr=1e-4)"
   ]
  },
  {
   "cell_type": "code",
   "execution_count": null,
   "metadata": {},
   "outputs": [],
   "source": [
    "learn.fit(epochs=10, lr=1e-4)"
   ]
  }
 ],
 "metadata": {
  "kernelspec": {
   "display_name": "Python 3",
   "language": "python",
   "name": "python3"
  },
  "language_info": {
   "codemirror_mode": {
    "name": "ipython",
    "version": 3
   },
   "file_extension": ".py",
   "mimetype": "text/x-python",
   "name": "python",
   "nbconvert_exporter": "python",
   "pygments_lexer": "ipython3",
   "version": "3.6.5"
  }
 },
 "nbformat": 4,
 "nbformat_minor": 2
}
