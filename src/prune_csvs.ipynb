{
 "cells": [
  {
   "cell_type": "code",
   "execution_count": 1,
   "metadata": {},
   "outputs": [],
   "source": [
    "import pandas as pd"
   ]
  },
  {
   "cell_type": "code",
   "execution_count": 2,
   "metadata": {},
   "outputs": [],
   "source": [
    "from pathlib import Path"
   ]
  },
  {
   "cell_type": "code",
   "execution_count": 46,
   "metadata": {},
   "outputs": [],
   "source": [
    "import numpy as np"
   ]
  },
  {
   "cell_type": "code",
   "execution_count": 37,
   "metadata": {},
   "outputs": [],
   "source": [
    "from tqdm import tqdm_notebook as tqdm"
   ]
  },
  {
   "cell_type": "code",
   "execution_count": 3,
   "metadata": {},
   "outputs": [],
   "source": [
    "csv_path = Path('../data/')"
   ]
  },
  {
   "cell_type": "code",
   "execution_count": 5,
   "metadata": {},
   "outputs": [
    {
     "data": {
      "text/plain": [
       "[PosixPath('../data/cleaned_all_title_data_top.csv'),\n",
       " PosixPath('../data/cleaned_all_title_data_hot.csv'),\n",
       " PosixPath('../data/all_title_cleaned_data.csv'),\n",
       " PosixPath('../data/cleaned_all_title_data.csv'),\n",
       " PosixPath('../data/cleaned_all_title_data.zip'),\n",
       " PosixPath('../data/all_title_data.csv'),\n",
       " PosixPath('../data/cleaned_all_title_data_controversial.csv')]"
      ]
     },
     "execution_count": 5,
     "metadata": {},
     "output_type": "execute_result"
    }
   ],
   "source": [
    "list(csv_path.glob('*'))"
   ]
  },
  {
   "cell_type": "code",
   "execution_count": 8,
   "metadata": {},
   "outputs": [],
   "source": [
    "cleaned_h = pd.read_csv(csv_path / 'cleaned_all_title_data_hot.csv')"
   ]
  },
  {
   "cell_type": "code",
   "execution_count": 39,
   "metadata": {},
   "outputs": [],
   "source": [
    "cleaned_t = pd.read_csv(csv_path / 'cleaned_all_title_data_top.csv')\n",
    "cleaned_c = pd.read_csv(csv_path / 'cleaned_all_title_data_controversial.csv')"
   ]
  },
  {
   "cell_type": "code",
   "execution_count": 21,
   "metadata": {},
   "outputs": [],
   "source": [
    "labs = cleaned_h.label.unique()"
   ]
  },
  {
   "cell_type": "code",
   "execution_count": 42,
   "metadata": {},
   "outputs": [
    {
     "data": {
      "application/vnd.jupyter.widget-view+json": {
       "model_id": "1afc10587351408aba001d6c2b41a547",
       "version_major": 2,
       "version_minor": 0
      },
      "text/plain": [
       "HBox(children=(IntProgress(value=0, max=1466), HTML(value='')))"
      ]
     },
     "metadata": {},
     "output_type": "display_data"
    }
   ],
   "source": [
    "all_dfs = []\n",
    "for l in tqdm(labs):\n",
    "    tmp_df_h = cleaned_h[cleaned_h.label == l]\n",
    "    tmp_df_t = cleaned_t[cleaned_t.label == l]\n",
    "    tmp_df_c = cleaned_c[cleaned_c.label == l]\n",
    "    min_len = min(len(tmp_df_h), len(tmp_df_t), len(tmp_df_c))\n",
    "    if min_len < 100:\n",
    "        continue\n",
    "    tmp_df_h = tmp_df_h.sample(n=100)\n",
    "    tmp_df_t = tmp_df_t.sample(n=100)\n",
    "    tmp_df_c = tmp_df_c.sample(n=100)\n",
    "    tmp_df = pd.concat([tmp_df_h, tmp_df_t, tmp_df_c])\n",
    "    all_dfs.append(tmp_df)\n",
    "#     break\n",
    "full_df = pd.concat(all_dfs)"
   ]
  },
  {
   "cell_type": "code",
   "execution_count": 45,
   "metadata": {},
   "outputs": [],
   "source": [
    "full_df.to_csv('../data/fine_grained_full.csv', index=False)"
   ]
  },
  {
   "cell_type": "code",
   "execution_count": 54,
   "metadata": {},
   "outputs": [
    {
     "data": {
      "text/plain": [
       "429300"
      ]
     },
     "execution_count": 54,
     "metadata": {},
     "output_type": "execute_result"
    }
   ],
   "source": [
    "len(full_df)"
   ]
  },
  {
   "cell_type": "code",
   "execution_count": 48,
   "metadata": {},
   "outputs": [],
   "source": [
    "id_list = np.random.permutation(len(full_df))\n",
    "tot_len = len(id_list)\n",
    "tr_id_list = id_list[:int(tot_len * 0.6)]\n",
    "val_id_list = id_list[int(tot_len*0.6):int(tot_len*0.8)]\n",
    "test_id_list = id_list[int(tot_len*0.8):]"
   ]
  },
  {
   "cell_type": "code",
   "execution_count": 50,
   "metadata": {},
   "outputs": [],
   "source": [
    "trn_df = full_df.iloc[tr_id_list]\n",
    "val_df = full_df.iloc[val_id_list]\n",
    "test_df = full_df.iloc[test_id_list]"
   ]
  },
  {
   "cell_type": "code",
   "execution_count": 53,
   "metadata": {},
   "outputs": [],
   "source": [
    "trn_df.to_csv('../data/fine_grained_train.csv', index=False)\n",
    "val_df.to_csv('../data/fine_grained_val.csv', index=False)\n",
    "test_df.to_csv('../data/fine_grained_test.csv', index=False)"
   ]
  },
  {
   "cell_type": "markdown",
   "metadata": {},
   "source": [
    "# Making the coarse list"
   ]
  },
  {
   "cell_type": "code",
   "execution_count": 58,
   "metadata": {},
   "outputs": [],
   "source": [
    "coarse_labs = list(pd.read_csv('../high_filtered_srlist.csv', header=None)[0])"
   ]
  },
  {
   "cell_type": "code",
   "execution_count": 59,
   "metadata": {},
   "outputs": [
    {
     "data": {
      "text/plain": [
       "['science',\n",
       " 'politics',\n",
       " 'gadgets',\n",
       " 'worldnews',\n",
       " 'technology',\n",
       " 'videos',\n",
       " 'AskReddit',\n",
       " 'Music',\n",
       " 'atheism',\n",
       " 'news',\n",
       " 'bestof',\n",
       " 'books',\n",
       " 'history',\n",
       " 'television',\n",
       " 'Jokes',\n",
       " 'Fitness',\n",
       " 'askscience',\n",
       " 'nottheonion',\n",
       " 'todayilearned',\n",
       " 'personalfinance',\n",
       " 'listentothis',\n",
       " 'IAmA',\n",
       " 'nosleep',\n",
       " 'GetMotivated',\n",
       " 'WritingPrompts',\n",
       " 'LifeProTips',\n",
       " 'explainlikeimfive',\n",
       " 'Showerthoughts',\n",
       " 'Futurology',\n",
       " 'tifu',\n",
       " 'InternetIsBeautiful']"
      ]
     },
     "execution_count": 59,
     "metadata": {},
     "output_type": "execute_result"
    }
   ],
   "source": [
    "coarse_labs"
   ]
  },
  {
   "cell_type": "code",
   "execution_count": 66,
   "metadata": {},
   "outputs": [
    {
     "data": {
      "application/vnd.jupyter.widget-view+json": {
       "model_id": "1d2666c662774ed99899c6c477dde28c",
       "version_major": 2,
       "version_minor": 0
      },
      "text/plain": [
       "HBox(children=(IntProgress(value=0, max=31), HTML(value='')))"
      ]
     },
     "metadata": {},
     "output_type": "display_data"
    }
   ],
   "source": [
    "l_dfs = []\n",
    "for l in tqdm(coarse_labs):\n",
    "    tmp_df_h = cleaned_h[cleaned_h.label == l]\n",
    "    tmp_df_t = cleaned_t[cleaned_t.label == l]\n",
    "    tmp_df_c = cleaned_c[cleaned_c.label == l]\n",
    "    min_len = min(len(tmp_df_h), len(tmp_df_t), len(tmp_df_c))\n",
    "    if min_len < 500:\n",
    "        continue\n",
    "    tmp_df_h = tmp_df_h.sample(n=500)\n",
    "    tmp_df_t = tmp_df_t.sample(n=500)\n",
    "    tmp_df_c = tmp_df_c.sample(n=500)\n",
    "    tmp_df = pd.concat([tmp_df_h, tmp_df_t, tmp_df_c])\n",
    "    all_dfs.append(tmp_df)\n",
    "#     break\n",
    "full_df = pd.concat(all_dfs)"
   ]
  },
  {
   "cell_type": "code",
   "execution_count": 71,
   "metadata": {},
   "outputs": [
    {
     "data": {
      "text/plain": [
       "politics             1500\n",
       "bestof               1500\n",
       "worldnews            1500\n",
       "Showerthoughts       1500\n",
       "personalfinance      1500\n",
       "videos               1500\n",
       "history              1500\n",
       "science              1500\n",
       "Futurology           1500\n",
       "explainlikeimfive    1500\n",
       "AskReddit            1500\n",
       "todayilearned        1500\n",
       "television           1500\n",
       "nosleep              1500\n",
       "WritingPrompts       1500\n",
       "askscience           1500\n",
       "Jokes                1500\n",
       "Name: label, dtype: int64"
      ]
     },
     "execution_count": 71,
     "metadata": {},
     "output_type": "execute_result"
    }
   ],
   "source": [
    "full_df.label.value_counts()"
   ]
  },
  {
   "cell_type": "code",
   "execution_count": 73,
   "metadata": {},
   "outputs": [],
   "source": [
    "id_list = np.random.permutation(len(full_df))\n",
    "tot_len = len(id_list)\n",
    "tr_id_list = id_list[:int(tot_len * 0.6)]\n",
    "val_id_list = id_list[int(tot_len*0.6):int(tot_len*0.8)]\n",
    "test_id_list = id_list[int(tot_len*0.8):]"
   ]
  },
  {
   "cell_type": "code",
   "execution_count": 74,
   "metadata": {},
   "outputs": [],
   "source": [
    "trn_df = full_df.iloc[tr_id_list]\n",
    "val_df = full_df.iloc[val_id_list]\n",
    "test_df = full_df.iloc[test_id_list]"
   ]
  },
  {
   "cell_type": "code",
   "execution_count": 75,
   "metadata": {},
   "outputs": [],
   "source": [
    "trn_df.to_csv('../data/coarse_grained_train.csv', index=False)\n",
    "val_df.to_csv('../data/coarse_grained_val.csv', index=False)\n",
    "test_df.to_csv('../data/coarse_grained_test.csv', index=False)"
   ]
  }
 ],
 "metadata": {
  "kernelspec": {
   "display_name": "Python 3",
   "language": "python",
   "name": "python3"
  },
  "language_info": {
   "codemirror_mode": {
    "name": "ipython",
    "version": 3
   },
   "file_extension": ".py",
   "mimetype": "text/x-python",
   "name": "python",
   "nbconvert_exporter": "python",
   "pygments_lexer": "ipython3",
   "version": "3.7.0"
  }
 },
 "nbformat": 4,
 "nbformat_minor": 2
}
