{
 "cells": [
  {
   "cell_type": "markdown",
   "metadata": {},
   "source": [
    "# Subreddit CSV creator"
   ]
  },
  {
   "cell_type": "markdown",
   "metadata": {},
   "source": [
    "This notebook creates a csv of the subreddit with required fields. Only a small filter of number of subscribers more than 2000 is kept"
   ]
  },
  {
   "cell_type": "markdown",
   "metadata": {},
   "source": [
    "Get the original csv file from here: https://www.kaggle.com/rayraegah/subreddits"
   ]
  },
  {
   "cell_type": "code",
   "execution_count": 1,
   "metadata": {},
   "outputs": [],
   "source": [
    "from pathlib import Path\n",
    "import pandas as pd\n",
    "import numpy as np\n",
    "from tqdm import tqdm_notebook as tqdm\n",
    "from reddit_crawler import get_default_reddit_inst"
   ]
  },
  {
   "cell_type": "code",
   "execution_count": 2,
   "metadata": {},
   "outputs": [],
   "source": [
    "csv_file = Path('/scratch/arka/Ark_git_files/subr/subreddits_public.csv')\n",
    "sub_red_info = pd.read_csv(csv_file)\n",
    "sub_red_info.subscribers_count = pd.to_numeric(\n",
    "    sub_red_info.subscribers_count, errors='coerce').fillna(0).astype(np.int_)"
   ]
  },
  {
   "cell_type": "code",
   "execution_count": 3,
   "metadata": {},
   "outputs": [],
   "source": [
    "min_sub_count = 2000\n",
    "sub_red_info = sub_red_info[sub_red_info.subscribers_count > min_sub_count]"
   ]
  },
  {
   "cell_type": "code",
   "execution_count": 4,
   "metadata": {},
   "outputs": [],
   "source": [
    "red_crawl = get_default_reddit_inst()"
   ]
  },
  {
   "cell_type": "code",
   "execution_count": 5,
   "metadata": {},
   "outputs": [
    {
     "data": {
      "text/html": [
       "<div>\n",
       "<style scoped>\n",
       "    .dataframe tbody tr th:only-of-type {\n",
       "        vertical-align: middle;\n",
       "    }\n",
       "\n",
       "    .dataframe tbody tr th {\n",
       "        vertical-align: top;\n",
       "    }\n",
       "\n",
       "    .dataframe thead th {\n",
       "        text-align: right;\n",
       "    }\n",
       "</style>\n",
       "<table border=\"1\" class=\"dataframe\">\n",
       "  <thead>\n",
       "    <tr style=\"text-align: right;\">\n",
       "      <th></th>\n",
       "      <th>base10_id</th>\n",
       "      <th>base36_reddit_id</th>\n",
       "      <th>creation_epoch</th>\n",
       "      <th>subreddit_name</th>\n",
       "      <th>subscribers_count</th>\n",
       "    </tr>\n",
       "  </thead>\n",
       "  <tbody>\n",
       "    <tr>\n",
       "      <th>0</th>\n",
       "      <td>40718.0</td>\n",
       "      <td>t5_vf2</td>\n",
       "      <td>1.137700e+09</td>\n",
       "      <td>nsfw</td>\n",
       "      <td>936786</td>\n",
       "    </tr>\n",
       "    <tr>\n",
       "      <th>3</th>\n",
       "      <td>95487.0</td>\n",
       "      <td>t5_21of</td>\n",
       "      <td>1.140336e+09</td>\n",
       "      <td>olympics</td>\n",
       "      <td>397323</td>\n",
       "    </tr>\n",
       "    <tr>\n",
       "      <th>4</th>\n",
       "      <td>96552.0</td>\n",
       "      <td>t5_22i0</td>\n",
       "      <td>1.140417e+09</td>\n",
       "      <td>de</td>\n",
       "      <td>108579</td>\n",
       "    </tr>\n",
       "    <tr>\n",
       "      <th>5</th>\n",
       "      <td>96554.0</td>\n",
       "      <td>t5_22i2</td>\n",
       "      <td>1.140417e+09</td>\n",
       "      <td>es</td>\n",
       "      <td>10734</td>\n",
       "    </tr>\n",
       "    <tr>\n",
       "      <th>12</th>\n",
       "      <td>98766.0</td>\n",
       "      <td>t5_247i</td>\n",
       "      <td>1.140584e+09</td>\n",
       "      <td>ru</td>\n",
       "      <td>3177</td>\n",
       "    </tr>\n",
       "  </tbody>\n",
       "</table>\n",
       "</div>"
      ],
      "text/plain": [
       "    base10_id base36_reddit_id  creation_epoch subreddit_name  \\\n",
       "0     40718.0           t5_vf2    1.137700e+09           nsfw   \n",
       "3     95487.0          t5_21of    1.140336e+09       olympics   \n",
       "4     96552.0          t5_22i0    1.140417e+09             de   \n",
       "5     96554.0          t5_22i2    1.140417e+09             es   \n",
       "12    98766.0          t5_247i    1.140584e+09             ru   \n",
       "\n",
       "    subscribers_count  \n",
       "0              936786  \n",
       "3              397323  \n",
       "4              108579  \n",
       "5               10734  \n",
       "12               3177  "
      ]
     },
     "execution_count": 5,
     "metadata": {},
     "output_type": "execute_result"
    }
   ],
   "source": [
    "sub_red_info.head()"
   ]
  },
  {
   "cell_type": "code",
   "execution_count": 6,
   "metadata": {},
   "outputs": [],
   "source": [
    "x1 = red_crawl.subreddit('news')"
   ]
  },
  {
   "cell_type": "code",
   "execution_count": 7,
   "metadata": {},
   "outputs": [
    {
     "data": {
      "text/plain": [
       "False"
      ]
     },
     "execution_count": 7,
     "metadata": {},
     "output_type": "execute_result"
    }
   ],
   "source": [
    "x1.allow_videogifs"
   ]
  },
  {
   "cell_type": "code",
   "execution_count": 8,
   "metadata": {},
   "outputs": [],
   "source": [
    "header_list = sub_red_info.columns.tolist() + ['allw_imgs', 'allw_vids', 'allw_gifs', 'over18', 'public_description']"
   ]
  },
  {
   "cell_type": "code",
   "execution_count": 9,
   "metadata": {},
   "outputs": [
    {
     "data": {
      "text/plain": [
       "['base10_id',\n",
       " 'base36_reddit_id',\n",
       " 'creation_epoch',\n",
       " 'subreddit_name',\n",
       " 'subscribers_count',\n",
       " 'allw_imgs',\n",
       " 'allw_vids',\n",
       " 'allw_gifs',\n",
       " 'over18',\n",
       " 'public_description']"
      ]
     },
     "execution_count": 9,
     "metadata": {},
     "output_type": "execute_result"
    }
   ],
   "source": [
    "header_list"
   ]
  },
  {
   "cell_type": "code",
   "execution_count": 10,
   "metadata": {},
   "outputs": [],
   "source": [
    "sub_red_info = sub_red_info.reindex(columns=header_list)"
   ]
  },
  {
   "cell_type": "code",
   "execution_count": null,
   "metadata": {},
   "outputs": [
    {
     "data": {
      "application/vnd.jupyter.widget-view+json": {
       "model_id": "65d58d82973a4f68ad04e2c5359fa059",
       "version_major": 2,
       "version_minor": 0
      },
      "text/plain": [
       "HBox(children=(IntProgress(value=0, max=21767), HTML(value='')))"
      ]
     },
     "metadata": {},
     "output_type": "display_data"
    },
    {
     "name": "stdout",
     "output_type": "stream",
     "text": [
      "1 911truth woops\n",
      "2 smart woops\n",
      "3 hack woops\n",
      "4 justice woops\n",
      "5 linkedin woops\n",
      "6 Whores woops\n",
      "7 blackpower woops\n",
      "8 PhilosophyOfTech woops\n",
      "9 dragonball woops\n",
      "10 UniversityofReddit woops\n"
     ]
    }
   ],
   "source": [
    "i = 0\n",
    "pain_list = []\n",
    "for ind, row in tqdm(sub_red_info.iterrows(), total=len(sub_red_info)):\n",
    "    t = red_crawl.subreddit(row.subreddit_name)\n",
    "    try:\n",
    "        row.allw_imgs = t.allow_images\n",
    "        row.allw_vids = t.allow_videos\n",
    "        row.allw_gifs = t.allow_videogifs\n",
    "        row.over18 = t.over18\n",
    "        row.public_description = t.public_description\n",
    "        sub_red_info.loc[ind] = row\n",
    "    except Exception as e:\n",
    "        i += 1\n",
    "        x = row.subreddit_name\n",
    "        pain_list.append(x)\n",
    "        print(i, x, 'woops')\n",
    "        row.allw_imgs = True\n",
    "        row.allw_vids = True\n",
    "        row.allw_gifs = True\n",
    "        row.over18 = False\n",
    "        sub_red_info.loc[ind] = row\n"
   ]
  },
  {
   "cell_type": "markdown",
   "metadata": {},
   "source": [
    "The rules can be added later after pruning the dataset"
   ]
  },
  {
   "cell_type": "code",
   "execution_count": null,
   "metadata": {},
   "outputs": [],
   "source": [
    "sub_red_info.head()"
   ]
  },
  {
   "cell_type": "code",
   "execution_count": null,
   "metadata": {},
   "outputs": [],
   "source": [
    "sub_red_info.to_csv('./req_subreddits.csv', index=False, header=True)"
   ]
  }
 ],
 "metadata": {
  "kernelspec": {
   "display_name": "Python 3",
   "language": "python",
   "name": "python3"
  },
  "language_info": {
   "codemirror_mode": {
    "name": "ipython",
    "version": 3
   },
   "file_extension": ".py",
   "mimetype": "text/x-python",
   "name": "python",
   "nbconvert_exporter": "python",
   "pygments_lexer": "ipython3",
   "version": "3.7.0"
  }
 },
 "nbformat": 4,
 "nbformat_minor": 2
}
