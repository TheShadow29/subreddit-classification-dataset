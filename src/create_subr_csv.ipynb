{
 "cells": [
  {
   "cell_type": "markdown",
   "metadata": {},
   "source": [
    "# Subreddit CSV creator"
   ]
  },
  {
   "cell_type": "markdown",
   "metadata": {},
   "source": [
    "This notebook creates a csv of the subreddit with required fields. Only a small filter of number of subscribers more than 2000 is kept"
   ]
  },
  {
   "cell_type": "markdown",
   "metadata": {},
   "source": [
    "Get the original csv file from here: https://www.kaggle.com/rayraegah/subreddits"
   ]
  },
  {
   "cell_type": "code",
   "execution_count": 1,
   "metadata": {},
   "outputs": [],
   "source": [
    "from pathlib import Path\n",
    "import pandas as pd\n",
    "import numpy as np\n",
    "from tqdm import tqdm_notebook as tqdm\n",
    "from reddit_crawler import get_default_reddit_inst"
   ]
  },
  {
   "cell_type": "code",
   "execution_count": 2,
   "metadata": {},
   "outputs": [],
   "source": [
    "csv_file = Path('/scratch/arka/Ark_git_files/subr/subreddits_public.csv')\n",
    "sub_red_info = pd.read_csv(csv_file)\n",
    "sub_red_info.subscribers_count = pd.to_numeric(\n",
    "    sub_red_info.subscribers_count, errors='coerce').fillna(0).astype(np.int_)"
   ]
  },
  {
   "cell_type": "code",
   "execution_count": 3,
   "metadata": {},
   "outputs": [],
   "source": [
    "min_sub_count = 2000\n",
    "sub_red_info = sub_red_info[sub_red_info.subscribers_count > min_sub_count]"
   ]
  },
  {
   "cell_type": "code",
   "execution_count": 4,
   "metadata": {},
   "outputs": [],
   "source": [
    "red_crawl = get_default_reddit_inst()"
   ]
  },
  {
   "cell_type": "code",
   "execution_count": 5,
   "metadata": {},
   "outputs": [
    {
     "data": {
      "text/html": [
       "<div>\n",
       "<style scoped>\n",
       "    .dataframe tbody tr th:only-of-type {\n",
       "        vertical-align: middle;\n",
       "    }\n",
       "\n",
       "    .dataframe tbody tr th {\n",
       "        vertical-align: top;\n",
       "    }\n",
       "\n",
       "    .dataframe thead th {\n",
       "        text-align: right;\n",
       "    }\n",
       "</style>\n",
       "<table border=\"1\" class=\"dataframe\">\n",
       "  <thead>\n",
       "    <tr style=\"text-align: right;\">\n",
       "      <th></th>\n",
       "      <th>base10_id</th>\n",
       "      <th>base36_reddit_id</th>\n",
       "      <th>creation_epoch</th>\n",
       "      <th>subreddit_name</th>\n",
       "      <th>subscribers_count</th>\n",
       "    </tr>\n",
       "  </thead>\n",
       "  <tbody>\n",
       "    <tr>\n",
       "      <th>0</th>\n",
       "      <td>40718.0</td>\n",
       "      <td>t5_vf2</td>\n",
       "      <td>1.137700e+09</td>\n",
       "      <td>nsfw</td>\n",
       "      <td>936786</td>\n",
       "    </tr>\n",
       "    <tr>\n",
       "      <th>3</th>\n",
       "      <td>95487.0</td>\n",
       "      <td>t5_21of</td>\n",
       "      <td>1.140336e+09</td>\n",
       "      <td>olympics</td>\n",
       "      <td>397323</td>\n",
       "    </tr>\n",
       "    <tr>\n",
       "      <th>4</th>\n",
       "      <td>96552.0</td>\n",
       "      <td>t5_22i0</td>\n",
       "      <td>1.140417e+09</td>\n",
       "      <td>de</td>\n",
       "      <td>108579</td>\n",
       "    </tr>\n",
       "    <tr>\n",
       "      <th>5</th>\n",
       "      <td>96554.0</td>\n",
       "      <td>t5_22i2</td>\n",
       "      <td>1.140417e+09</td>\n",
       "      <td>es</td>\n",
       "      <td>10734</td>\n",
       "    </tr>\n",
       "    <tr>\n",
       "      <th>12</th>\n",
       "      <td>98766.0</td>\n",
       "      <td>t5_247i</td>\n",
       "      <td>1.140584e+09</td>\n",
       "      <td>ru</td>\n",
       "      <td>3177</td>\n",
       "    </tr>\n",
       "  </tbody>\n",
       "</table>\n",
       "</div>"
      ],
      "text/plain": [
       "    base10_id base36_reddit_id  creation_epoch subreddit_name  \\\n",
       "0     40718.0           t5_vf2    1.137700e+09           nsfw   \n",
       "3     95487.0          t5_21of    1.140336e+09       olympics   \n",
       "4     96552.0          t5_22i0    1.140417e+09             de   \n",
       "5     96554.0          t5_22i2    1.140417e+09             es   \n",
       "12    98766.0          t5_247i    1.140584e+09             ru   \n",
       "\n",
       "    subscribers_count  \n",
       "0              936786  \n",
       "3              397323  \n",
       "4              108579  \n",
       "5               10734  \n",
       "12               3177  "
      ]
     },
     "execution_count": 5,
     "metadata": {},
     "output_type": "execute_result"
    }
   ],
   "source": [
    "sub_red_info.head()"
   ]
  },
  {
   "cell_type": "code",
   "execution_count": 6,
   "metadata": {},
   "outputs": [],
   "source": [
    "x1 = red_crawl.subreddit('news')"
   ]
  },
  {
   "cell_type": "code",
   "execution_count": 7,
   "metadata": {},
   "outputs": [
    {
     "data": {
      "text/plain": [
       "False"
      ]
     },
     "execution_count": 7,
     "metadata": {},
     "output_type": "execute_result"
    }
   ],
   "source": [
    "x1.allow_videogifs"
   ]
  },
  {
   "cell_type": "code",
   "execution_count": 8,
   "metadata": {},
   "outputs": [],
   "source": [
    "header_list = sub_red_info.columns.tolist() + ['allw_imgs', 'allw_vids', 'allw_gifs', 'over18', 'public_description']"
   ]
  },
  {
   "cell_type": "code",
   "execution_count": 9,
   "metadata": {},
   "outputs": [
    {
     "data": {
      "text/plain": [
       "['base10_id',\n",
       " 'base36_reddit_id',\n",
       " 'creation_epoch',\n",
       " 'subreddit_name',\n",
       " 'subscribers_count',\n",
       " 'allw_imgs',\n",
       " 'allw_vids',\n",
       " 'allw_gifs',\n",
       " 'over18',\n",
       " 'public_description']"
      ]
     },
     "execution_count": 9,
     "metadata": {},
     "output_type": "execute_result"
    }
   ],
   "source": [
    "header_list"
   ]
  },
  {
   "cell_type": "code",
   "execution_count": 10,
   "metadata": {},
   "outputs": [],
   "source": [
    "sub_red_info = sub_red_info.reindex(columns=header_list)"
   ]
  },
  {
   "cell_type": "code",
   "execution_count": 11,
   "metadata": {},
   "outputs": [
    {
     "data": {
      "application/vnd.jupyter.widget-view+json": {
       "model_id": "65d58d82973a4f68ad04e2c5359fa059",
       "version_major": 2,
       "version_minor": 0
      },
      "text/plain": [
       "HBox(children=(IntProgress(value=0, max=21767), HTML(value='')))"
      ]
     },
     "metadata": {},
     "output_type": "display_data"
    },
    {
     "name": "stdout",
     "output_type": "stream",
     "text": [
      "1 911truth woops\n",
      "2 smart woops\n",
      "3 hack woops\n",
      "4 justice woops\n",
      "5 linkedin woops\n",
      "6 Whores woops\n",
      "7 blackpower woops\n",
      "8 PhilosophyOfTech woops\n",
      "9 dragonball woops\n",
      "10 UniversityofReddit woops\n",
      "11 amateur_fuck_videos woops\n",
      "12 ass_cleavage woops\n",
      "13 surfinggirls woops\n",
      "14 holocaust woops\n",
      "15 truebestof woops\n",
      "16 merica woops\n",
      "17 sfw_wtf woops\n",
      "18 ubisoft woops\n",
      "19 Gone_Mild woops\n",
      "20 watchpeopledie woops\n",
      "21 LaughYouUpvote woops\n",
      "22 SleepingBeauties woops\n",
      "23 TheAngieCompetition woops\n",
      "24 Humiliation woops\n",
      "25 voyeurism woops\n",
      "26 TheRedPill woops\n",
      "27 meinmyplace woops\n",
      "28 milliondollarextreme woops\n",
      "29 Hentai_Porn woops\n",
      "30 Handjob_Porn woops\n",
      "31 Ebony_Porn woops\n",
      "32 Celebrity_Porn woops\n",
      "33 Blowjob_Porn woops\n",
      "34 Anal_Porn woops\n",
      "35 FULLCOMMUNISM woops\n",
      "36 Rai woops\n",
      "37 BestOfCamGirls woops\n",
      "38 VoyeurSex woops\n",
      "39 badmathematics woops\n",
      "40 bigtities woops\n",
      "41 treatemright woops\n",
      "42 crowdgroped woops\n",
      "43 bootyhadmelike woops\n",
      "44 NSFW__Lesbian woops\n",
      "45 DirtyKikFriends woops\n",
      "46 NSFW_SexToday woops\n",
      "47 Ultraleft woops\n",
      "48 boobsorkittens woops\n",
      "49 Anal_Sex_NSFW woops\n",
      "50 yoyhammer woops\n",
      "51 NichtDerPostillon woops\n",
      "52 brasgonewild woops\n",
      "53 hearpeopledie woops\n",
      "54 nsfw_hot_amateur woops\n",
      "55 Bitconnect woops\n",
      "56 NudeCelebz woops\n",
      "57 whitebeauty woops\n",
      "58 DownvoteTrolling woops\n",
      "59 ChocolateCumsluts woops\n",
      "60 NSFWebms woops\n",
      "61 Girls_Looking_for_sex woops\n",
      "62 doublebarrelblowjobs woops\n",
      "63 sjwhate woops\n",
      "64 homemadexxx2 woops\n",
      "65 mitchjones woops\n",
      "66 holdthemoan2 woops\n",
      "67 cumonher woops\n",
      "68 CringeAnarchy woops\n",
      "69 MaitlandWard woops\n",
      "70 NikiSkyler woops\n",
      "71 WhitneyWisconsinSub woops\n",
      "72 Buildapcproxy woops\n",
      "73 TeenFA woops\n",
      "74 watchingpeopledie woops\n",
      "75 JessaRhodes_ woops\n",
      "76 primedaydeals woops\n",
      "77 forzahorizon3 woops\n",
      "78 LendingAHand woops\n",
      "79 SouthernExpressions woops\n",
      "80 sissy_personals woops\n",
      "81 BrittanyaRazavi woops\n",
      "82 csgo_trading woops\n",
      "83 gonewildcury woops\n",
      "84 Ice_Poseidon woops\n",
      "85 Huge_Booty_Ass woops\n",
      "86 realhomemadexxx woops\n",
      "87 CamGirlSex woops\n",
      "88 slutsincollege woops\n",
      "89 superwackytictacs woops\n",
      "90 Real_GirlsX woops\n",
      "91 snapfuck woops\n",
      "92 NSFW__WebcamGirls woops\n",
      "93 CWArrow woops\n",
      "94 AnalCasting woops\n",
      "95 BLMWatch woops\n",
      "96 AmazingTeens woops\n",
      "97 SuperMega woops\n",
      "98 MercyMains woops\n",
      "99 MyPrivateCumtribute woops\n",
      "100 MorningGlory woops\n",
      "101 GDAX woops\n",
      "102 ForbiddenSex woops\n",
      "103 TGirlPoV woops\n",
      "104 MillieBobbyBrown woops\n",
      "105 SophieMudd woops\n",
      "106 DirtyCutie8 woops\n",
      "107 DankMemeNetwork woops\n",
      "108 AllisonParker woops\n",
      "109 MaisieWilliamsFakes woops\n",
      "110 nudesforpizza woops\n",
      "111 dirtykikmates woops\n",
      "112 nsfw_snapchat_share woops\n",
      "113 Trump_Train woops\n",
      "114 KikSexy_101 woops\n",
      "115 edc_raffle woops\n",
      "116 Nudeeconomy woops\n",
      "117 watermelon_bubblegum woops\n",
      "118 NetVideoGirls woops\n",
      "119 Presetbay woops\n",
      "120 Asshole_Lover woops\n",
      "121 natasha_k_t woops\n",
      "122 MonacoCard woops\n",
      "123 GenesisMiaLopez woops\n",
      "124 allisoncalvaruso woops\n",
      "125 INEEEEDIT woops\n",
      "126 snapchatnude woops\n",
      "127 hotfallingdevil woops\n",
      "128 SnapchatAdult woops\n",
      "129 KikAdult woops\n",
      "130 XXXwebms woops\n",
      "131 CrackedSoftware woops\n",
      "132 InstagramThots woops\n",
      "133 SizzlingSexyBabes woops\n",
      "134 Brandi_Love woops\n",
      "135 Leah_Gotti woops\n",
      "136 Elsa_Jean woops\n",
      "137 Lena_Paul woops\n",
      "138 Lana_Rhoades woops\n",
      "139 Kelsi_Monroe woops\n",
      "140 Remy_Lacroix woops\n",
      "141 Angela_White woops\n",
      "142 Adriana_Chechik woops\n",
      "143 Ice_Poseidon2 woops\n",
      "144 billionshekelsupreme woops\n",
      "145 PatreonBabes woops\n",
      "146 Braincels woops\n",
      "147 CreampieInAsia woops\n",
      "148 StretchedHoles woops\n",
      "149 Rhettal2 woops\n",
      "150 kbj woops\n",
      "151 melbournecrime woops\n",
      "152 greatawakening woops\n",
      "153 tripsgonewild woops\n",
      "154 Smoopys_Celebs woops\n",
      "155 fashionextramile woops\n",
      "156 ShemaleDaily woops\n",
      "157 ILoveShemales woops\n",
      "158 LadyboyLover woops\n",
      "159 ShemalePictures woops\n",
      "160 MosaicNetwork woops\n",
      "161 SomethingExtra woops\n",
      "162 BabesWithBoners woops\n",
      "163 WhoresWithMore woops\n",
      "164 Ladymale woops\n",
      "165 TGirlWorld woops\n",
      "166 DicksOnGirls woops\n",
      "167 13451452251849519 woops\n",
      "168 GamedayGoneWild woops\n",
      "\n"
     ]
    }
   ],
   "source": [
    "i = 0\n",
    "pain_list = []\n",
    "for ind, row in tqdm(sub_red_info.iterrows(), total=len(sub_red_info)):\n",
    "    t = red_crawl.subreddit(row.subreddit_name)\n",
    "    try:\n",
    "        row.allw_imgs = t.allow_images\n",
    "        row.allw_vids = t.allow_videos\n",
    "        row.allw_gifs = t.allow_videogifs\n",
    "        row.over18 = t.over18\n",
    "        row.public_description = t.public_description\n",
    "        sub_red_info.loc[ind] = row\n",
    "    except Exception as e:\n",
    "        i += 1\n",
    "        x = row.subreddit_name\n",
    "        pain_list.append(x)\n",
    "        print(i, x, 'woops')\n",
    "        row.allw_imgs = True\n",
    "        row.allw_vids = True\n",
    "        row.allw_gifs = True\n",
    "        row.over18 = False\n",
    "        sub_red_info.loc[ind] = row\n"
   ]
  },
  {
   "cell_type": "markdown",
   "metadata": {},
   "source": [
    "The exceptions have been ignored."
   ]
  },
  {
   "cell_type": "markdown",
   "metadata": {},
   "source": [
    "The rules can be added later after pruning the dataset"
   ]
  },
  {
   "cell_type": "code",
   "execution_count": 12,
   "metadata": {},
   "outputs": [
    {
     "data": {
      "text/html": [
       "<div>\n",
       "<style scoped>\n",
       "    .dataframe tbody tr th:only-of-type {\n",
       "        vertical-align: middle;\n",
       "    }\n",
       "\n",
       "    .dataframe tbody tr th {\n",
       "        vertical-align: top;\n",
       "    }\n",
       "\n",
       "    .dataframe thead th {\n",
       "        text-align: right;\n",
       "    }\n",
       "</style>\n",
       "<table border=\"1\" class=\"dataframe\">\n",
       "  <thead>\n",
       "    <tr style=\"text-align: right;\">\n",
       "      <th></th>\n",
       "      <th>base10_id</th>\n",
       "      <th>base36_reddit_id</th>\n",
       "      <th>creation_epoch</th>\n",
       "      <th>subreddit_name</th>\n",
       "      <th>subscribers_count</th>\n",
       "      <th>allw_imgs</th>\n",
       "      <th>allw_vids</th>\n",
       "      <th>allw_gifs</th>\n",
       "      <th>over18</th>\n",
       "      <th>public_description</th>\n",
       "    </tr>\n",
       "  </thead>\n",
       "  <tbody>\n",
       "    <tr>\n",
       "      <th>0</th>\n",
       "      <td>40718.0</td>\n",
       "      <td>t5_vf2</td>\n",
       "      <td>1.137700e+09</td>\n",
       "      <td>nsfw</td>\n",
       "      <td>936786</td>\n",
       "      <td>True</td>\n",
       "      <td>False</td>\n",
       "      <td>True</td>\n",
       "      <td>True</td>\n",
       "      <td>##Not Safe For Work\\n\\n^(For the porn lover in...</td>\n",
       "    </tr>\n",
       "    <tr>\n",
       "      <th>3</th>\n",
       "      <td>95487.0</td>\n",
       "      <td>t5_21of</td>\n",
       "      <td>1.140336e+09</td>\n",
       "      <td>olympics</td>\n",
       "      <td>397323</td>\n",
       "      <td>True</td>\n",
       "      <td>True</td>\n",
       "      <td>True</td>\n",
       "      <td>False</td>\n",
       "      <td>Links and discussion about the Olympics and Pa...</td>\n",
       "    </tr>\n",
       "    <tr>\n",
       "      <th>4</th>\n",
       "      <td>96552.0</td>\n",
       "      <td>t5_22i0</td>\n",
       "      <td>1.140417e+09</td>\n",
       "      <td>de</td>\n",
       "      <td>108579</td>\n",
       "      <td>True</td>\n",
       "      <td>True</td>\n",
       "      <td>True</td>\n",
       "      <td>False</td>\n",
       "      <td>Das Sammelbecken für alle Deutschsprachler, ha...</td>\n",
       "    </tr>\n",
       "    <tr>\n",
       "      <th>5</th>\n",
       "      <td>96554.0</td>\n",
       "      <td>t5_22i2</td>\n",
       "      <td>1.140417e+09</td>\n",
       "      <td>es</td>\n",
       "      <td>10734</td>\n",
       "      <td>True</td>\n",
       "      <td>True</td>\n",
       "      <td>True</td>\n",
       "      <td>False</td>\n",
       "      <td>Reddit en Español para los españoles de España...</td>\n",
       "    </tr>\n",
       "    <tr>\n",
       "      <th>12</th>\n",
       "      <td>98766.0</td>\n",
       "      <td>t5_247i</td>\n",
       "      <td>1.140584e+09</td>\n",
       "      <td>ru</td>\n",
       "      <td>3177</td>\n",
       "      <td>True</td>\n",
       "      <td>True</td>\n",
       "      <td>True</td>\n",
       "      <td>False</td>\n",
       "      <td>Реддит по-русски! Реддит для русскоговорящих п...</td>\n",
       "    </tr>\n",
       "  </tbody>\n",
       "</table>\n",
       "</div>"
      ],
      "text/plain": [
       "    base10_id base36_reddit_id  creation_epoch subreddit_name  \\\n",
       "0     40718.0           t5_vf2    1.137700e+09           nsfw   \n",
       "3     95487.0          t5_21of    1.140336e+09       olympics   \n",
       "4     96552.0          t5_22i0    1.140417e+09             de   \n",
       "5     96554.0          t5_22i2    1.140417e+09             es   \n",
       "12    98766.0          t5_247i    1.140584e+09             ru   \n",
       "\n",
       "    subscribers_count  allw_imgs  allw_vids  allw_gifs  over18  \\\n",
       "0              936786       True      False       True    True   \n",
       "3              397323       True       True       True   False   \n",
       "4              108579       True       True       True   False   \n",
       "5               10734       True       True       True   False   \n",
       "12               3177       True       True       True   False   \n",
       "\n",
       "                                   public_description  \n",
       "0   ##Not Safe For Work\\n\\n^(For the porn lover in...  \n",
       "3   Links and discussion about the Olympics and Pa...  \n",
       "4   Das Sammelbecken für alle Deutschsprachler, ha...  \n",
       "5   Reddit en Español para los españoles de España...  \n",
       "12  Реддит по-русски! Реддит для русскоговорящих п...  "
      ]
     },
     "execution_count": 12,
     "metadata": {},
     "output_type": "execute_result"
    }
   ],
   "source": [
    "sub_red_info.head()"
   ]
  },
  {
   "cell_type": "code",
   "execution_count": 13,
   "metadata": {},
   "outputs": [],
   "source": [
    "sub_red_info.to_csv('./req_subreddits.csv', index=False, header=True)"
   ]
  },
  {
   "cell_type": "code",
   "execution_count": 14,
   "metadata": {},
   "outputs": [
    {
     "data": {
      "text/plain": [
       "['base10_id',\n",
       " 'base36_reddit_id',\n",
       " 'creation_epoch',\n",
       " 'subreddit_name',\n",
       " 'subscribers_count',\n",
       " 'allw_imgs',\n",
       " 'allw_vids',\n",
       " 'allw_gifs',\n",
       " 'over18',\n",
       " 'public_description']"
      ]
     },
     "execution_count": 14,
     "metadata": {},
     "output_type": "execute_result"
    }
   ],
   "source": [
    "header_list"
   ]
  },
  {
   "cell_type": "code",
   "execution_count": 15,
   "metadata": {},
   "outputs": [],
   "source": [
    "sub_red_info_without_pub_desc = sub_red_info[['base10_id',\n",
    " 'base36_reddit_id',\n",
    " 'creation_epoch',\n",
    " 'subreddit_name',\n",
    " 'subscribers_count',\n",
    " 'allw_imgs',\n",
    " 'allw_vids',\n",
    " 'allw_gifs',\n",
    " 'over18']]"
   ]
  },
  {
   "cell_type": "code",
   "execution_count": 17,
   "metadata": {},
   "outputs": [],
   "source": [
    "sub_red_info_without_pub_desc.to_csv('./req_subr_without_pub_desc.csv', index=False, header=True)"
   ]
  }
 ],
 "metadata": {
  "kernelspec": {
   "display_name": "Python 3",
   "language": "python",
   "name": "python3"
  },
  "language_info": {
   "codemirror_mode": {
    "name": "ipython",
    "version": 3
   },
   "file_extension": ".py",
   "mimetype": "text/x-python",
   "name": "python",
   "nbconvert_exporter": "python",
   "pygments_lexer": "ipython3",
   "version": "3.7.0"
  }
 },
 "nbformat": 4,
 "nbformat_minor": 2
}
