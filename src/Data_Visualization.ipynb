{
 "cells": [
  {
   "cell_type": "code",
   "execution_count": null,
   "metadata": {},
   "outputs": [],
   "source": [
    "# %matplotlib inline"
   ]
  },
  {
   "cell_type": "code",
   "execution_count": 2,
   "metadata": {},
   "outputs": [],
   "source": [
    "import matplotlib.pyplot as plt"
   ]
  },
  {
   "cell_type": "code",
   "execution_count": 3,
   "metadata": {},
   "outputs": [],
   "source": [
    "import pandas as pd\n",
    "from pathlib import Path"
   ]
  },
  {
   "cell_type": "code",
   "execution_count": 4,
   "metadata": {},
   "outputs": [],
   "source": [
    "csv_tdir = Path('../data')"
   ]
  },
  {
   "cell_type": "code",
   "execution_count": 5,
   "metadata": {},
   "outputs": [
    {
     "data": {
      "text/plain": [
       "[PosixPath('../data/coarse_grained_train.csv'),\n",
       " PosixPath('../data/coarse_grained_val.csv'),\n",
       " PosixPath('../data/cleaned_all_title_data_top.csv'),\n",
       " PosixPath('../data/fine_grained_val.csv'),\n",
       " PosixPath('../data/cleaned_all_title_data_hot.csv'),\n",
       " PosixPath('../data/all_title_cleaned_data.csv'),\n",
       " PosixPath('../data/cleaned_all_title_data.csv'),\n",
       " PosixPath('../data/fine_grained_train.csv'),\n",
       " PosixPath('../data/fine_grained_full.csv'),\n",
       " PosixPath('../data/fine_grained_test.csv'),\n",
       " PosixPath('../data/coarse_grained_test.csv'),\n",
       " PosixPath('../data/all_title_data.csv'),\n",
       " PosixPath('../data/cleaned_all_title_data_controversial.csv')]"
      ]
     },
     "execution_count": 5,
     "metadata": {},
     "output_type": "execute_result"
    }
   ],
   "source": [
    "list(csv_tdir.glob('*.csv'))"
   ]
  },
  {
   "cell_type": "markdown",
   "metadata": {},
   "source": [
    "# Visualization for coarse grained"
   ]
  },
  {
   "cell_type": "code",
   "execution_count": 6,
   "metadata": {},
   "outputs": [
    {
     "name": "stdout",
     "output_type": "stream",
     "text": [
      "15300\n"
     ]
    },
    {
     "data": {
      "image/png": "[encoded data removed]",
      "text/plain": [
       "<Figure size 432x288 with 1 Axes>"
      ]
     },
     "metadata": {
      "needs_background": "light"
     },
     "output_type": "display_data"
    }
   ],
   "source": [
    "trn_coarse_csv = pd.read_csv(csv_tdir / 'coarse_grained_train.csv')\n",
    "print(len(trn_coarse_csv))\n",
    "fig = trn_coarse_csv.label.value_counts().plot.hist(bins=5)\n",
    "\n",
    "fig = fig.get_figure()\n",
    "\n",
    "fig.savefig('trn_coarse_dist.png', bbox_inches='tight')"
   ]
  },
  {
   "cell_type": "code",
   "execution_count": 7,
   "metadata": {},
   "outputs": [
    {
     "name": "stdout",
     "output_type": "stream",
     "text": [
      "5100\n"
     ]
    },
    {
     "data": {
      "image/png": "[encoded data removed]",
      "text/plain": [
       "<Figure size 432x288 with 1 Axes>"
      ]
     },
     "metadata": {
      "needs_background": "light"
     },
     "output_type": "display_data"
    }
   ],
   "source": [
    "trn_coarse_csv = pd.read_csv(csv_tdir / 'coarse_grained_val.csv')\n",
    "print(len(trn_coarse_csv))\n",
    "\n",
    "fig = trn_coarse_csv.label.value_counts().plot.hist(bins=5)\n",
    "\n",
    "fig = fig.get_figure()\n",
    "\n",
    "fig.savefig('val_coarse_dist.png', bbox_inches='tight')"
   ]
  },
  {
   "cell_type": "code",
   "execution_count": 8,
   "metadata": {},
   "outputs": [
    {
     "name": "stdout",
     "output_type": "stream",
     "text": [
      "5100\n"
     ]
    },
    {
     "data": {
      "image/png": "[encoded data removed]",
      "text/plain": [
       "<Figure size 432x288 with 1 Axes>"
      ]
     },
     "metadata": {
      "needs_background": "light"
     },
     "output_type": "display_data"
    }
   ],
   "source": [
    "trn_coarse_csv = pd.read_csv(csv_tdir / 'coarse_grained_test.csv')\n",
    "print(len(trn_coarse_csv))\n",
    "\n",
    "fig = trn_coarse_csv.label.value_counts().plot.hist(bins=5)\n",
    "\n",
    "fig = fig.get_figure()\n",
    "\n",
    "fig.savefig('test_coarse_dist.png', bbox_inches='tight')"
   ]
  },
  {
   "cell_type": "markdown",
   "metadata": {},
   "source": [
    "# Visualization for fine-grained"
   ]
  },
  {
   "cell_type": "code",
   "execution_count": 9,
   "metadata": {},
   "outputs": [
    {
     "name": "stdout",
     "output_type": "stream",
     "text": [
      "257580\n"
     ]
    },
    {
     "data": {
      "image/png": "[encoded data removed]",
      "text/plain": [
       "<Figure size 432x288 with 1 Axes>"
      ]
     },
     "metadata": {
      "needs_background": "light"
     },
     "output_type": "display_data"
    }
   ],
   "source": [
    "trn_coarse_csv = pd.read_csv(csv_tdir / 'fine_grained_train.csv')\n",
    "print(len(trn_coarse_csv))\n",
    "\n",
    "fig = trn_coarse_csv.label.value_counts().plot.hist(bins=5)\n",
    "\n",
    "fig = fig.get_figure()\n",
    "\n",
    "fig.savefig('trn_fine_dist.png', bbox_inches='tight')"
   ]
  },
  {
   "cell_type": "code",
   "execution_count": 10,
   "metadata": {},
   "outputs": [
    {
     "name": "stdout",
     "output_type": "stream",
     "text": [
      "85860\n"
     ]
    },
    {
     "data": {
      "image/png": "[encoded data removed]",
      "text/plain": [
       "<Figure size 432x288 with 1 Axes>"
      ]
     },
     "metadata": {
      "needs_background": "light"
     },
     "output_type": "display_data"
    }
   ],
   "source": [
    "trn_coarse_csv = pd.read_csv(csv_tdir / 'fine_grained_val.csv')\n",
    "print(len(trn_coarse_csv))\n",
    "\n",
    "fig = trn_coarse_csv.label.value_counts().plot.hist(bins=5)\n",
    "\n",
    "fig = fig.get_figure()\n",
    "\n",
    "fig.savefig('val_fine_dist.png', bbox_inches='tight')"
   ]
  },
  {
   "cell_type": "code",
   "execution_count": 11,
   "metadata": {},
   "outputs": [
    {
     "name": "stdout",
     "output_type": "stream",
     "text": [
      "85860\n"
     ]
    },
    {
     "data": {
      "image/png": "[encoded data removed]",
      "text/plain": [
       "<Figure size 432x288 with 1 Axes>"
      ]
     },
     "metadata": {
      "needs_background": "light"
     },
     "output_type": "display_data"
    }
   ],
   "source": [
    "trn_coarse_csv = pd.read_csv(csv_tdir / 'fine_grained_test.csv')\n",
    "print(len(trn_coarse_csv))\n",
    "\n",
    "fig = trn_coarse_csv.label.value_counts().plot.hist(bins=5)\n",
    "\n",
    "fig = fig.get_figure()\n",
    "\n",
    "fig.savefig('test_fine_dist.png', bbox_inches='tight')"
   ]
  },
  {
   "cell_type": "markdown",
   "metadata": {},
   "source": [
    "# Big List"
   ]
  },
  {
   "cell_type": "code",
   "execution_count": 22,
   "metadata": {},
   "outputs": [
    {
     "data": {
      "image/png": "[encoded data removed]",
      "text/plain": [
       "<Figure size 432x288 with 1 Axes>"
      ]
     },
     "metadata": {
      "needs_background": "light"
     },
     "output_type": "display_data"
    }
   ],
   "source": [
    "trn_coarse_csv = pd.read_csv(csv_tdir / 'cleaned_all_title_data_hot.csv')\n",
    "print(len(trn_coarse_csv))\n",
    "\n",
    "fig = trn_coarse_csv.label.value_counts().plot.hist(bins=5)\n",
    "\n",
    "fig = fig.get_figure()\n",
    "\n",
    "fig.savefig('hot_fine_dist.png', bbox_inches='tight')"
   ]
  },
  {
   "cell_type": "code",
   "execution_count": 23,
   "metadata": {},
   "outputs": [
    {
     "data": {
      "image/png": "[encoded data removed]",
      "text/plain": [
       "<Figure size 432x288 with 1 Axes>"
      ]
     },
     "metadata": {
      "needs_background": "light"
     },
     "output_type": "display_data"
    }
   ],
   "source": [
    "trn_coarse_csv = pd.read_csv(csv_tdir / 'cleaned_all_title_data_top.csv')\n",
    "print(len(trn_coarse_csv))\n",
    "\n",
    "fig = trn_coarse_csv.label.value_counts().plot.hist(bins=5)\n",
    "\n",
    "fig = fig.get_figure()\n",
    "\n",
    "fig.savefig('top_fine_dist.png', bbox_inches='tight')"
   ]
  },
  {
   "cell_type": "code",
   "execution_count": 24,
   "metadata": {},
   "outputs": [
    {
     "data": {
      "image/png": "[encoded data removed]",
      "text/plain": [
       "<Figure size 432x288 with 1 Axes>"
      ]
     },
     "metadata": {
      "needs_background": "light"
     },
     "output_type": "display_data"
    }
   ],
   "source": [
    "trn_coarse_csv = pd.read_csv(csv_tdir / 'cleaned_all_title_data_controversial.csv')\n",
    "print(len(trn_coarse_csv))\n",
    "\n",
    "fig = trn_coarse_csv.label.value_counts().plot.hist(bins=5)\n",
    "\n",
    "fig = fig.get_figure()\n",
    "\n",
    "fig.savefig('controversial_fine_dist.png', bbox_inches='tight')"
   ]
  }
 ],
 "metadata": {
  "kernelspec": {
   "display_name": "Python 3",
   "language": "python",
   "name": "python3"
  },
  "language_info": {
   "codemirror_mode": {
    "name": "ipython",
    "version": 3
   },
   "file_extension": ".py",
   "mimetype": "text/x-python",
   "name": "python",
   "nbconvert_exporter": "python",
   "pygments_lexer": "ipython3",
   "version": "3.7.0"
  }
 },
 "nbformat": 4,
 "nbformat_minor": 2
}
