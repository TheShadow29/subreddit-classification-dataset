{
 "cells": [
  {
   "cell_type": "code",
   "execution_count": 1,
   "metadata": {},
   "outputs": [],
   "source": [
    "from fastai import *\n",
    "from fastai.text import *"
   ]
  },
  {
   "cell_type": "code",
   "execution_count": 10,
   "metadata": {},
   "outputs": [],
   "source": [
    "df = pd.read_csv('../data/all_title_data.csv')"
   ]
  },
  {
   "cell_type": "code",
   "execution_count": 3,
   "metadata": {},
   "outputs": [],
   "source": [
    "path = Path('./tmp')"
   ]
  },
  {
   "cell_type": "code",
   "execution_count": 11,
   "metadata": {},
   "outputs": [],
   "source": [
    "df = df.iloc[:200000]"
   ]
  },
  {
   "cell_type": "code",
   "execution_count": 12,
   "metadata": {},
   "outputs": [],
   "source": [
    "id_list = np.random.permutation(len(df))\n",
    "tot_len = len(id_list)\n",
    "tr_id_list = id_list[:int(tot_len * 0.7)]\n",
    "val_id_list = id_list[int(tot_len*0.7):]"
   ]
  },
  {
   "cell_type": "code",
   "execution_count": 13,
   "metadata": {},
   "outputs": [],
   "source": [
    "train_df = df.iloc[tr_id_list]\n",
    "val_df = df.iloc[val_id_list]"
   ]
  },
  {
   "cell_type": "code",
   "execution_count": 14,
   "metadata": {},
   "outputs": [],
   "source": [
    "data_lm = TextLMDataBunch.from_df(path=path, train_df=train_df, valid_df=val_df)"
   ]
  },
  {
   "cell_type": "code",
   "execution_count": 15,
   "metadata": {},
   "outputs": [],
   "source": [
    "# data_clas = TextClasDataBunch.from_csv(path, 'texts.csv', vocab=data_lm.train_ds.vocab, bs=42)\n",
    "data_clas = TextClasDataBunch.from_df(path=path, train_df=train_df, valid_df=val_df, \n",
    "                                      vocab=data_lm.train_ds.vocab, bs=42)"
   ]
  },
  {
   "cell_type": "code",
   "execution_count": 16,
   "metadata": {},
   "outputs": [],
   "source": [
    "moms = (0.8,0.7)"
   ]
  },
  {
   "cell_type": "code",
   "execution_count": 17,
   "metadata": {},
   "outputs": [],
   "source": [
    "learn = language_model_learner(data_lm, pretrained_model=URLs.WT103)"
   ]
  },
  {
   "cell_type": "code",
   "execution_count": 19,
   "metadata": {},
   "outputs": [],
   "source": [
    "learn.model = torch.nn.DataParallel(learn.model)"
   ]
  },
  {
   "cell_type": "code",
   "execution_count": 21,
   "metadata": {},
   "outputs": [],
   "source": [
    "learn.model.reset = learn.model.module.reset"
   ]
  },
  {
   "cell_type": "code",
   "execution_count": 22,
   "metadata": {},
   "outputs": [
    {
     "name": "stdout",
     "output_type": "stream",
     "text": [
      "Total time: 02:46\n",
      "epoch  train_loss  valid_loss  accuracy\n",
      "1      4.395270    4.081437    0.355287  (00:50)\n",
      "2      4.128897    3.905912    0.367820  (00:38)\n",
      "3      3.935748    3.812614    0.375964  (00:38)\n",
      "4      3.819574    3.792810    0.378662  (00:38)\n",
      "\n"
     ]
    }
   ],
   "source": [
    "learn.unfreeze()\n",
    "learn.fit_one_cycle(4, slice(1e-2), moms=moms)"
   ]
  },
  {
   "cell_type": "code",
   "execution_count": 23,
   "metadata": {},
   "outputs": [
    {
     "name": "stdout",
     "output_type": "stream",
     "text": [
      "Total time: 02:34\n",
      "epoch  train_loss  valid_loss  accuracy\n",
      "1      3.889692    3.815271    0.376176  (00:38)\n",
      "2      3.854100    3.791163    0.378738  (00:38)\n",
      "3      3.719059    3.747970    0.384027  (00:38)\n",
      "4      3.585934    3.740686    0.385988  (00:38)\n",
      "\n"
     ]
    }
   ],
   "source": [
    "learn.fit_one_cycle(4, slice(1e-2), moms=moms)"
   ]
  },
  {
   "cell_type": "code",
   "execution_count": 24,
   "metadata": {},
   "outputs": [
    {
     "name": "stdout",
     "output_type": "stream",
     "text": [
      "Total time: 02:33\n",
      "epoch  train_loss  valid_loss  accuracy\n",
      "1      3.683766    3.776066    0.381835  (00:38)\n",
      "2      3.723248    3.764461    0.383710  (00:38)\n",
      "3      3.588199    3.738703    0.386970  (00:38)\n",
      "4      3.438484    3.746393    0.387151  (00:38)\n",
      "\n"
     ]
    }
   ],
   "source": [
    "learn.fit_one_cycle(4, slice(1e-2), moms=moms)"
   ]
  },
  {
   "cell_type": "code",
   "execution_count": 26,
   "metadata": {},
   "outputs": [],
   "source": [
    "learn.model = learn.model.module\n",
    "learn.save_encoder('enc')"
   ]
  },
  {
   "cell_type": "code",
   "execution_count": 35,
   "metadata": {},
   "outputs": [],
   "source": [
    "learn = text_classifier_learner(data_clas)\n",
    "learn.load_encoder('enc')"
   ]
  },
  {
   "cell_type": "code",
   "execution_count": 28,
   "metadata": {},
   "outputs": [],
   "source": [
    "# learn.model = torch.nn.DataParallel(learn.model)"
   ]
  },
  {
   "cell_type": "code",
   "execution_count": 30,
   "metadata": {},
   "outputs": [],
   "source": [
    "# learn.model.reset = learn.model.module.reset"
   ]
  },
  {
   "cell_type": "code",
   "execution_count": 36,
   "metadata": {},
   "outputs": [
    {
     "name": "stdout",
     "output_type": "stream",
     "text": [
      "Total time: 05:41\n",
      "epoch  train_loss  valid_loss  accuracy\n",
      "1      3.492248    2.689910    0.385167  (01:17)\n",
      "2      3.279163    2.578492    0.410300  (01:24)\n",
      "3      3.236671    2.477953    0.432650  (01:26)\n",
      "4      3.168900    2.429934    0.444700  (01:32)\n",
      "\n"
     ]
    }
   ],
   "source": [
    "learn.freeze()\n",
    "learn.fit_one_cycle(4, moms=moms)"
   ]
  },
  {
   "cell_type": "code",
   "execution_count": 37,
   "metadata": {},
   "outputs": [
    {
     "name": "stdout",
     "output_type": "stream",
     "text": [
      "Total time: 05:31\n",
      "epoch  train_loss  valid_loss  accuracy\n",
      "1      3.328304    2.551573    0.409450  (01:20)\n",
      "2      3.334006    2.552436    0.408267  (01:23)\n",
      "3      3.291711    2.455502    0.436183  (01:24)\n",
      "4      3.127793    2.423057    0.447367  (01:22)\n",
      "\n"
     ]
    }
   ],
   "source": [
    "learn.fit_one_cycle(4, moms=moms)"
   ]
  },
  {
   "cell_type": "code",
   "execution_count": 38,
   "metadata": {},
   "outputs": [
    {
     "name": "stdout",
     "output_type": "stream",
     "text": [
      "Total time: 53:34\n",
      "epoch  train_loss  valid_loss  accuracy\n",
      "1      2.981039    2.419111    0.443183  (01:20)\n",
      "2      3.115290    2.431543    0.441483  (01:21)\n",
      "3      3.125216    2.438248    0.436117  (01:19)\n",
      "4      3.091591    2.461287    0.433083  (01:17)\n",
      "5      3.197346    2.495569    0.426733  (01:17)\n",
      "6      3.238175    2.505891    0.424317  (01:18)\n",
      "7      3.128275    2.515808    0.419933  (01:22)\n",
      "8      3.219356    2.514311    0.419217  (01:18)\n",
      "9      3.371787    2.539894    0.414833  (01:22)\n",
      "10     3.225388    2.545070    0.413317  (01:22)\n",
      "11     3.162480    2.529655    0.414617  (01:21)\n",
      "12     3.267949    2.521724    0.420517  (01:20)\n",
      "13     3.243850    2.550550    0.410850  (01:19)\n",
      "14     3.227428    2.539359    0.415933  (01:19)\n",
      "15     3.332961    2.530372    0.414683  (01:17)\n",
      "16     3.211294    2.527010    0.415383  (01:20)\n",
      "17     3.146427    2.502620    0.421600  (01:21)\n",
      "18     3.163935    2.525416    0.417733  (01:24)\n",
      "19     3.268125    2.510142    0.421133  (01:19)\n",
      "20     3.158631    2.509812    0.424117  (01:19)\n",
      "21     3.139128    2.497952    0.425433  (01:22)\n",
      "22     3.276368    2.491910    0.422433  (01:18)\n",
      "23     3.212413    2.493263    0.424317  (01:20)\n",
      "24     3.212144    2.495879    0.425183  (01:21)\n",
      "25     3.271351    2.491589    0.426450  (01:21)\n",
      "26     3.118505    2.474451    0.429633  (01:18)\n",
      "27     3.216064    2.474665    0.429017  (01:20)\n",
      "28     3.203223    2.460467    0.432067  (01:17)\n",
      "29     3.133626    2.455454    0.434133  (01:19)\n",
      "30     3.324620    2.424797    0.439200  (01:16)\n",
      "31     3.257532    2.425171    0.442967  (01:18)\n",
      "32     3.158411    2.422323    0.442967  (01:18)\n",
      "33     3.017667    2.423256    0.442483  (01:23)\n",
      "34     3.069361    2.416158    0.445583  (01:20)\n",
      "35     3.080138    2.402248    0.445817  (01:22)\n",
      "36     2.988732    2.392664    0.451633  (01:23)\n",
      "37     3.077979    2.393188    0.454683  (01:24)\n",
      "38     2.957969    2.390520    0.454750  (01:21)\n",
      "39     3.131796    2.391681    0.454683  (01:17)\n",
      "40     3.162183    2.384090    0.454433  (01:22)\n",
      "\n"
     ]
    }
   ],
   "source": [
    "learn.fit_one_cycle(40, moms=moms)"
   ]
  },
  {
   "cell_type": "code",
   "execution_count": 39,
   "metadata": {},
   "outputs": [],
   "source": [
    "learn.save('underfit_25nov18')"
   ]
  },
  {
   "cell_type": "code",
   "execution_count": 40,
   "metadata": {},
   "outputs": [
    {
     "name": "stdout",
     "output_type": "stream",
     "text": [
      "Total time: 20:55\n",
      "epoch  train_loss  valid_loss  accuracy\n",
      "1      2.966035    2.358050    0.452700  (02:46)\n",
      "2      2.873737    2.310714    0.460983  (02:33)\n",
      "3      2.809406    2.247645    0.471450  (02:35)\n",
      "4      2.811695    2.196318    0.486017  (02:37)\n",
      "5      2.630262    2.144943    0.498250  (02:34)\n",
      "6      2.676342    2.107207    0.509000  (02:33)\n",
      "7      2.463896    2.084992    0.515000  (02:36)\n",
      "8      2.601974    2.083473    0.515650  (02:36)\n",
      "\n"
     ]
    }
   ],
   "source": [
    "learn.unfreeze()\n",
    "learn.fit_one_cycle(8, slice(1e-5,1e-3), moms=moms)"
   ]
  },
  {
   "cell_type": "code",
   "execution_count": 41,
   "metadata": {},
   "outputs": [
    {
     "name": "stdout",
     "output_type": "stream",
     "text": [
      "Total time: 40:33\n",
      "epoch  train_loss  valid_loss  accuracy\n",
      "1      2.602983    2.085923    0.513750  (02:45)\n",
      "2      2.435452    2.084787    0.513800  (02:41)\n",
      "3      2.522313    2.099668    0.508267  (02:39)\n",
      "4      2.702870    2.104419    0.507367  (02:35)\n",
      "5      2.469380    2.085863    0.514400  (02:43)\n",
      "6      2.578691    2.076776    0.513350  (02:47)\n",
      "7      2.427056    2.041488    0.521433  (02:43)\n",
      "8      2.615320    2.030946    0.528867  (02:37)\n",
      "9      2.436843    2.007070    0.532433  (02:45)\n",
      "10     2.399051    1.989842    0.536717  (02:39)\n",
      "11     2.379585    1.977240    0.539133  (02:49)\n",
      "12     2.333736    1.963749    0.544883  (02:44)\n",
      "13     2.376368    1.955370    0.546250  (02:39)\n",
      "14     2.321285    1.947101    0.547183  (02:34)\n",
      "15     2.250302    1.948643    0.547217  (02:46)\n",
      "\n"
     ]
    }
   ],
   "source": [
    "learn.fit_one_cycle(15, slice(1e-5,1e-3), moms=moms)"
   ]
  },
  {
   "cell_type": "code",
   "execution_count": 42,
   "metadata": {},
   "outputs": [
    {
     "name": "stdout",
     "output_type": "stream",
     "text": [
      "Total time: 39:14\n",
      "epoch  train_loss  valid_loss  accuracy\n",
      "1      2.616065    2.114973    0.509600  (02:36)\n",
      "2      2.567738    2.132951    0.502950  (02:41)\n",
      "3      2.661123    2.157260    0.502117  (02:38)\n",
      "4      2.693103    2.169429    0.505467  (02:30)\n",
      "5      2.774067    2.153106    0.509633  (02:32)\n",
      "6      2.477621    2.128396    0.518300  (02:41)\n",
      "7      2.581684    2.089147    0.526300  (02:45)\n",
      "8      2.573375    2.030056    0.540617  (02:37)\n",
      "9      2.412388    1.987603    0.547667  (02:44)\n",
      "10     2.342396    1.926866    0.561533  (02:37)\n",
      "11     2.332125    1.869437    0.573800  (02:35)\n",
      "12     2.129845    1.826378    0.583283  (02:33)\n",
      "13     2.085330    1.790239    0.591133  (02:29)\n",
      "14     1.988081    1.785583    0.594317  (02:32)\n",
      "15     2.058927    1.770107    0.596600  (02:39)\n",
      "\n"
     ]
    }
   ],
   "source": [
    "learn.fit_one_cycle(15, slice(1e-4,1e-2), moms=moms)"
   ]
  },
  {
   "cell_type": "code",
   "execution_count": 43,
   "metadata": {},
   "outputs": [
    {
     "name": "stdout",
     "output_type": "stream",
     "text": [
      "Total time: 39:35\n",
      "epoch  train_loss  valid_loss  accuracy\n",
      "1      1.913502    1.776336    0.596800  (02:33)\n",
      "2      2.079015    1.770640    0.597500  (02:38)\n",
      "3      2.008406    1.773878    0.594333  (02:37)\n",
      "4      1.908254    1.778774    0.593950  (02:30)\n",
      "5      1.886224    1.770739    0.594067  (02:46)\n",
      "6      1.869805    1.761085    0.593850  (02:29)\n",
      "7      1.939632    1.767623    0.597783  (02:49)\n",
      "8      1.950268    1.753761    0.597933  (02:33)\n",
      "9      1.897917    1.744362    0.601967  (02:41)\n",
      "10     1.911686    1.737385    0.603200  (02:42)\n",
      "11     2.045915    1.735824    0.603483  (02:31)\n",
      "12     1.717672    1.723638    0.606000  (02:43)\n",
      "13     1.774159    1.716298    0.607117  (02:43)\n",
      "14     1.805843    1.715585    0.607300  (02:29)\n",
      "15     1.846842    1.721657    0.606517  (02:41)\n",
      "\n"
     ]
    }
   ],
   "source": [
    "learn.fit_one_cycle(15, slice(1e-5, 1e-3), moms=moms)"
   ]
  },
  {
   "cell_type": "code",
   "execution_count": 44,
   "metadata": {},
   "outputs": [
    {
     "name": "stdout",
     "output_type": "stream",
     "text": [
      "Total time: 20:53\n",
      "epoch  train_loss  valid_loss  accuracy\n",
      "1      2.138902    1.900674    0.572183  (02:47)\n",
      "2      2.187949    1.950458    0.564283  (02:42)\n",
      "3      2.324027    1.982104    0.558083  (02:29)\n",
      "4      2.190214    1.927603    0.570850  (02:33)\n",
      "5      2.117922    1.859647    0.581433  (02:40)\n",
      "6      2.035860    1.788102    0.595367  (02:34)\n",
      "7      1.911007    1.747815    0.605783  (02:36)\n",
      "8      1.683607    1.724398    0.608167  (02:29)\n",
      "\n"
     ]
    }
   ],
   "source": [
    "learn.fit_one_cycle(8, slice(1e-4, 1e-2), moms=moms)"
   ]
  },
  {
   "cell_type": "code",
   "execution_count": 45,
   "metadata": {},
   "outputs": [
    {
     "name": "stdout",
     "output_type": "stream",
     "text": [
      "Total time: 07:50\n",
      "epoch  train_loss  valid_loss  accuracy\n",
      "1      1.798018    1.724685    0.611967  (02:35)\n",
      "2      1.669694    1.710760    0.611050  (02:35)\n",
      "3      1.713197    1.711365    0.613917  (02:39)\n",
      "\n"
     ]
    }
   ],
   "source": [
    "learn.fit(epochs=3, lr=1e-4)"
   ]
  },
  {
   "cell_type": "code",
   "execution_count": 46,
   "metadata": {},
   "outputs": [
    {
     "name": "stdout",
     "output_type": "stream",
     "text": [
      "Total time: 08:06\n",
      "epoch  train_loss  valid_loss  accuracy\n",
      "1      1.671883    1.712055    0.613433  (02:32)\n",
      "2      1.687525    1.702222    0.614833  (02:45)\n",
      "3      1.661167    1.705530    0.614800  (02:48)\n",
      "\n"
     ]
    }
   ],
   "source": [
    "learn.fit(epochs=3, lr=1e-5)"
   ]
  },
  {
   "cell_type": "code",
   "execution_count": 47,
   "metadata": {},
   "outputs": [
    {
     "name": "stdout",
     "output_type": "stream",
     "text": [
      "Total time: 26:23\n",
      "epoch  train_loss  valid_loss  accuracy\n",
      "1      1.798959    1.701614    0.615350  (02:31)\n",
      "2      1.726745    1.689482    0.615417  (02:33)\n",
      "3      1.782283    1.707080    0.616683  (02:47)\n",
      "4      1.609594    1.693040    0.616933  (02:34)\n",
      "5      1.736231    1.695083    0.617933  (02:37)\n",
      "6      1.711737    1.683876    0.619283  (02:38)\n",
      "7      1.635396    1.684236    0.620050  (02:44)\n",
      "8      1.668955    1.674507    0.621300  (02:37)\n",
      "9      1.550016    1.677200    0.620517  (02:41)\n",
      "10     1.553108    1.679861    0.622200  (02:36)\n",
      "\n"
     ]
    }
   ],
   "source": [
    "learn.fit(epochs=10, lr=1e-4)"
   ]
  },
  {
   "cell_type": "code",
   "execution_count": 48,
   "metadata": {},
   "outputs": [
    {
     "name": "stdout",
     "output_type": "stream",
     "text": [
      "Total time: 26:19\n",
      "epoch  train_loss  valid_loss  accuracy\n",
      "1      1.588391    1.675850    0.621817  (02:34)\n",
      "2      1.449670    1.667197    0.623733  (02:38)\n",
      "3      1.520610    1.675426    0.623533  (02:32)\n",
      "4      1.482325    1.672824    0.623850  (02:38)\n",
      "5      1.427311    1.660562    0.625200  (02:43)\n",
      "6      1.567216    1.673750    0.624850  (02:30)\n",
      "7      1.383427    1.664177    0.625117  (02:33)\n",
      "8      1.509299    1.665226    0.627200  (02:48)\n",
      "9      1.463699    1.686847    0.627117  (02:31)\n",
      "10     1.516992    1.658391    0.627783  (02:48)\n",
      "\n"
     ]
    }
   ],
   "source": [
    "learn.fit(epochs=10, lr=1e-4)"
   ]
  }
 ],
 "metadata": {
  "kernelspec": {
   "display_name": "Python 3",
   "language": "python",
   "name": "python3"
  },
  "language_info": {
   "codemirror_mode": {
    "name": "ipython",
    "version": 3
   },
   "file_extension": ".py",
   "mimetype": "text/x-python",
   "name": "python",
   "nbconvert_exporter": "python",
   "pygments_lexer": "ipython3",
   "version": "3.7.0"
  }
 },
 "nbformat": 4,
 "nbformat_minor": 2
}
