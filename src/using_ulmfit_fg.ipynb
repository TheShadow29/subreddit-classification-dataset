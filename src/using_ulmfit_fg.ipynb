{
 "cells": [
  {
   "cell_type": "code",
   "execution_count": 1,
   "metadata": {},
   "outputs": [],
   "source": [
    "from fastai import *\n",
    "from fastai.text import *"
   ]
  },
  {
   "cell_type": "code",
   "execution_count": 2,
   "metadata": {},
   "outputs": [],
   "source": [
    "path = Path('./tmp')"
   ]
  },
  {
   "cell_type": "code",
   "execution_count": 3,
   "metadata": {},
   "outputs": [],
   "source": [
    "train_df = pd.read_csv('../data/fine_grained_train.csv')\n",
    "val_df = pd.read_csv('../data/fine_grained_val.csv')"
   ]
  },
  {
   "cell_type": "code",
   "execution_count": 4,
   "metadata": {},
   "outputs": [],
   "source": [
    "data_lm = TextLMDataBunch.from_df(path=path, train_df=train_df, valid_df=val_df)"
   ]
  },
  {
   "cell_type": "code",
   "execution_count": 5,
   "metadata": {},
   "outputs": [],
   "source": [
    "# data_clas = TextClasDataBunch.from_csv(path, 'texts.csv', vocab=data_lm.train_ds.vocab, bs=42)\n",
    "data_clas = TextClasDataBunch.from_df(path=path, train_df=train_df, valid_df=val_df, \n",
    "                                      vocab=data_lm.train_ds.vocab, bs=42)"
   ]
  },
  {
   "cell_type": "code",
   "execution_count": 6,
   "metadata": {},
   "outputs": [],
   "source": [
    "moms = (0.8,0.7)"
   ]
  },
  {
   "cell_type": "code",
   "execution_count": 7,
   "metadata": {},
   "outputs": [],
   "source": [
    "learn = language_model_learner(data_lm, pretrained_model=URLs.WT103)"
   ]
  },
  {
   "cell_type": "code",
   "execution_count": 8,
   "metadata": {},
   "outputs": [
    {
     "name": "stdout",
     "output_type": "stream",
     "text": [
      "Total time: 15:58\n",
      "epoch  train_loss  valid_loss  accuracy\n",
      "1      4.584667    4.301590    0.331573  (01:59)\n",
      "2      4.359460    4.139068    0.342868  (01:58)\n",
      "3      4.239427    4.070871    0.348287  (01:59)\n",
      "4      4.104767    4.010125    0.354467  (01:59)\n",
      "5      3.987732    3.963444    0.359190  (01:59)\n",
      "6      3.854494    3.930880    0.362963  (02:00)\n",
      "7      3.734347    3.916277    0.365076  (02:00)\n",
      "8      3.664749    3.918855    0.365194  (02:00)\n",
      "\n"
     ]
    }
   ],
   "source": [
    "learn.unfreeze()\n",
    "learn.fit_one_cycle(8, slice(1e-2), moms=moms)"
   ]
  },
  {
   "cell_type": "code",
   "execution_count": 9,
   "metadata": {},
   "outputs": [],
   "source": [
    "learn.save('lang_model_fine')"
   ]
  },
  {
   "cell_type": "code",
   "execution_count": 10,
   "metadata": {},
   "outputs": [],
   "source": [
    "learn.save_encoder('enc_fine')"
   ]
  },
  {
   "cell_type": "code",
   "execution_count": 11,
   "metadata": {},
   "outputs": [],
   "source": [
    "learn = text_classifier_learner(data_clas)\n",
    "learn.load_encoder('enc_fine')"
   ]
  },
  {
   "cell_type": "code",
   "execution_count": null,
   "metadata": {},
   "outputs": [],
   "source": [
    "# learn.model = torch.nn.DataParallel(learn.model)"
   ]
  },
  {
   "cell_type": "code",
   "execution_count": null,
   "metadata": {},
   "outputs": [],
   "source": [
    "# learn.model.reset = learn.model.module.reset"
   ]
  },
  {
   "cell_type": "code",
   "execution_count": 12,
   "metadata": {},
   "outputs": [
    {
     "name": "stdout",
     "output_type": "stream",
     "text": [
      "Total time: 39:14\n",
      "epoch  train_loss  valid_loss  accuracy\n",
      "1      5.863060    5.320135    0.106557  (02:22)\n",
      "2      5.770766    5.177755    0.115688  (02:23)\n",
      "3      5.859468    5.240382    0.107023  (02:25)\n",
      "4      5.920495    5.203425    0.112148  (02:22)\n",
      "5      5.866399    5.187641    0.114326  (02:27)\n",
      "6      5.821481    5.156991    0.114803  (02:27)\n",
      "7      5.841119    5.160087    0.117296  (02:23)\n",
      "8      5.864828    5.151069    0.115397  (02:30)\n",
      "9      5.748400    5.140979    0.117424  (02:33)\n",
      "10     5.730004    5.092651    0.122490  (02:29)\n",
      "11     5.667833    5.083404    0.130608  (02:31)\n",
      "12     5.701323    5.045892    0.132099  (02:26)\n",
      "13     5.620001    4.987690    0.139506  (02:23)\n",
      "14     5.599705    4.954798    0.148463  (02:31)\n",
      "15     5.527075    4.987136    0.165781  (02:30)\n",
      "16     5.543360    4.926944    0.173352  (02:24)\n",
      "\n"
     ]
    }
   ],
   "source": [
    "learn.freeze()\n",
    "learn.fit_one_cycle(16, moms=moms)"
   ]
  },
  {
   "cell_type": "code",
   "execution_count": 13,
   "metadata": {},
   "outputs": [
    {
     "name": "stdout",
     "output_type": "stream",
     "text": [
      "Total time: 09:46\n",
      "epoch  train_loss  valid_loss  accuracy\n",
      "1      6.015735    5.338611    0.099546  (02:24)\n",
      "2      5.778277    5.138962    0.115514  (02:27)\n",
      "3      5.717341    4.982884    0.135779  (02:26)\n",
      "4      5.529261    4.940660    0.172991  (02:26)\n",
      "\n"
     ]
    }
   ],
   "source": [
    "learn.fit_one_cycle(4, moms=moms)"
   ]
  },
  {
   "cell_type": "code",
   "execution_count": 14,
   "metadata": {},
   "outputs": [],
   "source": [
    "learn.save('underfit_27nov18_finegrained')"
   ]
  },
  {
   "cell_type": "code",
   "execution_count": 15,
   "metadata": {},
   "outputs": [
    {
     "name": "stdout",
     "output_type": "stream",
     "text": [
      "Total time: 40:05\n",
      "epoch  train_loss  valid_loss  accuracy\n",
      "1      5.431081    4.835121    0.154403  (05:05)\n",
      "2      5.323686    4.786048    0.147531  (04:56)\n",
      "3      5.303468    4.696706    0.157570  (05:06)\n",
      "4      5.150729    4.550870    0.176776  (04:52)\n",
      "5      5.013221    4.461115    0.188213  (05:17)\n",
      "6      4.876135    4.369475    0.202236  (04:50)\n",
      "7      4.862506    4.325909    0.226007  (04:50)\n",
      "8      4.836074    4.301670    0.238237  (05:05)\n",
      "\n"
     ]
    }
   ],
   "source": [
    "learn.unfreeze()\n",
    "learn.fit_one_cycle(8, slice(1e-5,1e-3), moms=moms)"
   ]
  },
  {
   "cell_type": "code",
   "execution_count": 16,
   "metadata": {},
   "outputs": [
    {
     "name": "stdout",
     "output_type": "stream",
     "text": [
      "Total time: 1:16:07\n",
      "epoch  train_loss  valid_loss  accuracy\n",
      "1      4.856735    4.381131    0.202877  (05:15)\n",
      "2      4.875925    4.407137    0.192057  (04:56)\n",
      "3      5.012453    4.465070    0.183776  (05:05)\n",
      "4      5.132026    4.494610    0.184102  (05:07)\n",
      "5      4.940843    4.440924    0.188062  (05:14)\n",
      "6      4.904610    4.352824    0.204251  (05:06)\n",
      "7      4.813234    4.307928    0.206615  (05:11)\n",
      "8      4.698125    4.253566    0.212148  (05:07)\n",
      "9      4.695514    4.186314    0.223236  (04:49)\n",
      "10     4.646405    4.146078    0.230701  (04:51)\n",
      "11     4.526871    4.102614    0.244130  (04:54)\n",
      "12     4.475644    4.028411    0.250280  (05:03)\n",
      "13     4.543532    4.042789    0.262450  (05:07)\n",
      "14     4.429949    4.040148    0.274156  (05:01)\n",
      "15     4.371898    4.034055    0.278197  (05:15)\n",
      "\n"
     ]
    }
   ],
   "source": [
    "learn.fit_one_cycle(15, slice(1e-5,1e-3), moms=moms)"
   ]
  },
  {
   "cell_type": "code",
   "execution_count": 17,
   "metadata": {},
   "outputs": [
    {
     "name": "stdout",
     "output_type": "stream",
     "text": [
      "Total time: 40:24\n",
      "epoch  train_loss  valid_loss  accuracy\n",
      "1      4.639082    4.143713    0.230317  (04:59)\n",
      "2      4.918136    4.311294    0.214570  (05:00)\n",
      "3      4.680363    4.270026    0.216224  (05:11)\n",
      "4      4.768156    4.137708    0.233694  (05:09)\n",
      "5      4.493757    4.051823    0.245516  (04:45)\n",
      "6      4.482149    3.981553    0.261787  (05:03)\n",
      "7      4.463320    3.924620    0.276508  (05:10)\n",
      "8      4.381327    3.902476    0.291148  (05:03)\n",
      "\n"
     ]
    }
   ],
   "source": [
    "learn.fit_one_cycle(8, slice(1e-5, 1e-3), moms=moms)"
   ]
  },
  {
   "cell_type": "code",
   "execution_count": 18,
   "metadata": {},
   "outputs": [
    {
     "name": "stdout",
     "output_type": "stream",
     "text": [
      "Total time: 19:38\n",
      "epoch  train_loss  valid_loss  accuracy\n",
      "1      4.685827    4.186843    0.226310  (04:47)\n",
      "2      4.578027    4.128630    0.234696  (04:44)\n",
      "3      4.422855    3.932774    0.265816  (05:00)\n",
      "4      4.249002    3.872772    0.295854  (05:06)\n",
      "\n"
     ]
    }
   ],
   "source": [
    "learn.fit_one_cycle(4, slice(1e-5, 1e-3), moms=moms)"
   ]
  },
  {
   "cell_type": "code",
   "execution_count": 19,
   "metadata": {},
   "outputs": [
    {
     "name": "stdout",
     "output_type": "stream",
     "text": [
      "Total time: 1:14:46\n",
      "epoch  train_loss  valid_loss  accuracy\n",
      "1      4.366840    3.936104    0.265048  (04:58)\n",
      "2      4.501042    3.996038    0.249860  (05:09)\n",
      "3      4.607764    4.092861    0.239856  (05:01)\n",
      "4      4.724803    4.148022    0.233229  (04:46)\n",
      "5      4.540872    4.103983    0.238062  (05:00)\n",
      "6      4.539637    4.041204    0.245085  (05:07)\n",
      "7      4.437141    4.026831    0.249732  (04:59)\n",
      "8      4.453057    3.969879    0.257768  (04:48)\n",
      "9      4.294117    3.928085    0.260936  (04:45)\n",
      "10     4.308531    3.883866    0.268181  (04:46)\n",
      "11     4.374103    3.845488    0.276951  (05:01)\n",
      "12     4.232495    3.813170    0.287398  (05:03)\n",
      "13     4.207408    3.776256    0.299429  (05:17)\n",
      "14     4.176403    3.762848    0.313417  (05:14)\n",
      "15     4.094544    3.778440    0.316259  (04:45)\n",
      "\n"
     ]
    }
   ],
   "source": [
    "learn.fit_one_cycle(15, slice(1e-5, 1e-3), moms=moms)"
   ]
  },
  {
   "cell_type": "code",
   "execution_count": 20,
   "metadata": {},
   "outputs": [
    {
     "name": "stdout",
     "output_type": "stream",
     "text": [
      "Total time: 1:15:25\n",
      "epoch  train_loss  valid_loss  accuracy\n",
      "1      4.260785    3.851453    0.278628  (05:03)\n",
      "2      4.399295    3.918007    0.262089  (05:03)\n",
      "3      4.518568    4.018192    0.252201  (05:13)\n",
      "4      4.488535    4.073782    0.247554  (04:45)\n",
      "5      4.409804    3.997490    0.255323  (04:59)\n",
      "6      4.299446    3.940934    0.263184  (04:46)\n",
      "7      4.438741    3.923079    0.265851  (05:13)\n",
      "8      4.277162    3.880014    0.271011  (05:06)\n",
      "9      4.332423    3.832495    0.279513  (05:09)\n",
      "10     4.097048    3.782299    0.283951  (04:49)\n",
      "11     4.190364    3.760082    0.292476  (04:47)\n",
      "12     4.077833    3.718258    0.300582  (04:58)\n",
      "13     3.992410    3.684323    0.312218  (05:08)\n",
      "14     4.050378    3.674810    0.325553  (05:08)\n",
      "15     3.944948    3.710224    0.329397  (05:12)\n",
      "\n"
     ]
    }
   ],
   "source": [
    "learn.fit_one_cycle(15, slice(1e-5, 1e-3), moms=moms)"
   ]
  },
  {
   "cell_type": "code",
   "execution_count": 21,
   "metadata": {},
   "outputs": [
    {
     "name": "stdout",
     "output_type": "stream",
     "text": [
      "Total time: 2:30:18\n",
      "epoch  train_loss  valid_loss  accuracy\n",
      "1      4.089470    3.713025    0.303878  (05:11)\n",
      "2      4.075884    3.738141    0.292616  (05:10)\n",
      "3      4.066421    3.802361    0.282611  (05:07)\n",
      "4      4.170382    3.849758    0.277230  (05:01)\n",
      "5      4.382153    3.877768    0.274109  (04:45)\n",
      "6      4.344819    3.923083    0.268402  (05:04)\n",
      "7      4.362033    3.930730    0.266096  (05:02)\n",
      "8      4.198271    3.920301    0.269147  (05:10)\n",
      "9      4.419838    3.894062    0.268996  (04:53)\n",
      "10     4.297406    3.888905    0.268973  (05:10)\n",
      "11     4.367439    3.847773    0.276590  (05:02)\n",
      "12     4.180090    3.856858    0.276928  (04:55)\n",
      "13     4.230980    3.818626    0.282483  (04:48)\n",
      "14     4.152236    3.813283    0.282541  (04:55)\n",
      "15     4.166803    3.783342    0.284626  (04:51)\n",
      "16     4.269174    3.761610    0.290764  (05:09)\n",
      "17     4.094292    3.756659    0.291242  (04:52)\n",
      "18     4.119779    3.727475    0.292266  (05:06)\n",
      "19     4.035670    3.715530    0.298253  (05:02)\n",
      "20     3.976446    3.689719    0.301456  (05:06)\n",
      "21     3.952281    3.663687    0.306382  (05:02)\n",
      "22     3.891972    3.664194    0.305381  (05:04)\n",
      "23     3.865961    3.647131    0.316352  (04:48)\n",
      "24     3.942883    3.607044    0.320312  (04:45)\n",
      "25     3.920493    3.601911    0.322700  (04:46)\n",
      "26     3.805924    3.578669    0.331773  (05:00)\n",
      "27     3.843686    3.576166    0.337317  (05:10)\n",
      "28     3.736576    3.593685    0.344316  (04:46)\n",
      "29     3.814725    3.547326    0.348265  (05:13)\n",
      "30     3.737633    3.540592    0.348905  (05:12)\n",
      "\n"
     ]
    }
   ],
   "source": [
    "learn.fit_one_cycle(30, slice(1e-5, 1e-3), moms=moms)"
   ]
  },
  {
   "cell_type": "code",
   "execution_count": 22,
   "metadata": {},
   "outputs": [],
   "source": [
    "learn.save('just_fit_fine_27nov18')"
   ]
  },
  {
   "cell_type": "code",
   "execution_count": 23,
   "metadata": {},
   "outputs": [
    {
     "name": "stdout",
     "output_type": "stream",
     "text": [
      "Total time: 40:07\n",
      "epoch  train_loss  valid_loss  accuracy\n",
      "1      4.687475    4.210596    0.236385  (04:47)\n",
      "2      4.810756    4.306467    0.226473  (04:50)\n",
      "3      4.869074    4.354397    0.218519  (04:58)\n",
      "4      4.670504    4.263592    0.229094  (04:56)\n",
      "5      4.570388    4.108395    0.248742  (05:16)\n",
      "6      4.258107    3.949898    0.265665  (04:57)\n",
      "7      4.046371    3.724039    0.299546  (05:09)\n",
      "8      3.914037    3.630237    0.333706  (05:11)\n",
      "\n"
     ]
    }
   ],
   "source": [
    "learn.fit_one_cycle(8, slice(1e-4, 1e-2), moms=moms)"
   ]
  },
  {
   "cell_type": "code",
   "execution_count": 24,
   "metadata": {},
   "outputs": [
    {
     "name": "stdout",
     "output_type": "stream",
     "text": [
      "Total time: 20:26\n",
      "epoch  train_loss  valid_loss  accuracy\n",
      "1      4.093935    3.800034    0.287852  (04:53)\n",
      "2      4.112210    3.791428    0.287037  (05:16)\n",
      "3      3.913362    3.656388    0.312439  (04:59)\n",
      "4      3.833977    3.649458    0.336967  (05:16)\n",
      "\n"
     ]
    }
   ],
   "source": [
    "learn.fit_one_cycle(4, slice(1e-5, 1e-3), moms=moms)"
   ]
  },
  {
   "cell_type": "code",
   "execution_count": 25,
   "metadata": {},
   "outputs": [
    {
     "name": "stdout",
     "output_type": "stream",
     "text": [
      "Total time: 20:08\n",
      "epoch  train_loss  valid_loss  accuracy\n",
      "1      4.241963    3.842561    0.278744  (04:49)\n",
      "2      4.099631    3.775055    0.290403  (05:00)\n",
      "3      3.885950    3.616371    0.316271  (05:08)\n",
      "4      3.751212    3.597131    0.342406  (05:10)\n",
      "\n"
     ]
    }
   ],
   "source": [
    "learn.fit_one_cycle(4, slice(1e-5, 1e-3), moms=moms)"
   ]
  },
  {
   "cell_type": "code",
   "execution_count": 26,
   "metadata": {},
   "outputs": [],
   "source": [
    "learn.save('hope_good_results_fine_grained_27nov18')"
   ]
  },
  {
   "cell_type": "code",
   "execution_count": 27,
   "metadata": {},
   "outputs": [
    {
     "name": "stdout",
     "output_type": "stream",
     "text": [
      "Total time: 14:28\n",
      "epoch  train_loss  valid_loss  accuracy\n",
      "1      3.818439    3.612061    0.331551  (04:53)\n",
      "2      3.867007    3.581001    0.333159  (04:49)\n",
      "3      3.807897    3.562013    0.333450  (04:45)\n",
      "\n"
     ]
    }
   ],
   "source": [
    "learn.fit(epochs=3, lr=1e-4)"
   ]
  },
  {
   "cell_type": "code",
   "execution_count": 28,
   "metadata": {},
   "outputs": [
    {
     "name": "stdout",
     "output_type": "stream",
     "text": [
      "Total time: 15:02\n",
      "epoch  train_loss  valid_loss  accuracy\n",
      "1      3.657127    3.570826    0.350268  (04:54)\n",
      "2      3.667586    3.579704    0.352306  (05:06)\n",
      "3      3.671455    3.556331    0.351304  (05:01)\n",
      "\n"
     ]
    }
   ],
   "source": [
    "learn.fit(epochs=3, lr=1e-5)"
   ]
  },
  {
   "cell_type": "code",
   "execution_count": 29,
   "metadata": {},
   "outputs": [
    {
     "name": "stdout",
     "output_type": "stream",
     "text": [
      "Total time: 50:19\n",
      "epoch  train_loss  valid_loss  accuracy\n",
      "1      3.817004    3.547288    0.337060  (05:07)\n",
      "2      3.783643    3.540334    0.338388  (05:08)\n",
      "3      3.781165    3.523104    0.338190  (04:54)\n",
      "4      3.681206    3.514896    0.339821  (05:01)\n",
      "5      3.561919    3.521345    0.341999  (04:59)\n",
      "6      3.632221    3.519092    0.342662  (05:01)\n",
      "7      3.552393    3.478228    0.343757  (04:44)\n",
      "8      3.612370    3.471905    0.344747  (04:59)\n",
      "9      3.610998    3.488399    0.347694  (05:14)\n",
      "10     3.510544    3.482366    0.349371  (05:08)\n",
      "\n"
     ]
    }
   ],
   "source": [
    "learn.fit(epochs=10, lr=1e-4)"
   ]
  },
  {
   "cell_type": "code",
   "execution_count": 30,
   "metadata": {},
   "outputs": [
    {
     "name": "stdout",
     "output_type": "stream",
     "text": [
      "Total time: 50:38\n",
      "epoch  train_loss  valid_loss  accuracy\n",
      "1      3.647879    3.453576    0.349674  (04:55)\n",
      "2      3.573574    3.448962    0.350408  (05:08)\n",
      "3      3.505993    3.441902    0.352411  (04:53)\n",
      "4      3.446315    3.411807    0.355777  (05:03)\n",
      "5      3.450215    3.446249    0.350175  (05:17)\n",
      "6      3.494105    3.429274    0.355195  (05:15)\n",
      "7      3.393362    3.424744    0.357489  (04:53)\n",
      "8      3.481248    3.402686    0.356080  (04:55)\n",
      "9      3.445478    3.390139    0.357943  (05:06)\n",
      "10     3.493090    3.387414    0.358351  (05:08)\n",
      "\n"
     ]
    }
   ],
   "source": [
    "learn.fit(epochs=10, lr=1e-4)"
   ]
  },
  {
   "cell_type": "code",
   "execution_count": 31,
   "metadata": {},
   "outputs": [
    {
     "name": "stdout",
     "output_type": "stream",
     "text": [
      "Total time: 49:46\n",
      "epoch  train_loss  valid_loss  accuracy\n",
      "1      3.328235    3.350985    0.379280  (05:07)\n",
      "2      3.332332    3.352631    0.381144  (04:59)\n",
      "3      3.344378    3.357008    0.382320  (05:08)\n",
      "4      3.336581    3.358382    0.382891  (05:00)\n",
      "5      3.242056    3.357756    0.381388  (04:48)\n",
      "6      3.282089    3.364436    0.382611  (04:51)\n",
      "7      3.310250    3.339228    0.383147  (05:03)\n",
      "8      3.252053    3.356188    0.382996  (04:55)\n",
      "9      3.279259    3.364284    0.384009  (04:57)\n",
      "10     3.271949    3.319639    0.382192  (04:54)\n",
      "\n"
     ]
    }
   ],
   "source": [
    "learn.fit(epochs=10, lr=1e-5)"
   ]
  },
  {
   "cell_type": "code",
   "execution_count": null,
   "metadata": {},
   "outputs": [
    {
     "data": {
      "text/html": [
       "\n",
       "    <div>\n",
       "        <style>\n",
       "        \t/* Turns off some styling */\n",
       "        \tprogress {\n",
       "\n",
       "            \t/* gets rid of default border in Firefox and Opera. */\n",
       "            \tborder: none;\n",
       "\n",
       "            \t/* Needs to be in here for Safari polyfill so background images work as expected. */\n",
       "            \tbackground-size: auto;\n",
       "            }\n",
       "\n",
       "            .progress-bar-interrupted, .progress-bar-interrupted::-webkit-progress-bar {\n",
       "                background: #F44336;\n",
       "            }\n",
       "        </style>\n",
       "      <progress value='2' class='' max='10', style='width:300px; height:20px; vertical-align: middle;'></progress>\n",
       "      20.00% [2/10 10:06<40:27]\n",
       "    </div>\n",
       "    \n",
       "<table style='width:300px; margin-bottom:10px'>\n",
       "  <tr>\n",
       "    <th>epoch</th>\n",
       "    <th>train_loss</th>\n",
       "    <th>valid_loss</th>\n",
       "    <th>accuracy</th>\n",
       "  </tr>\n",
       "  <tr>\n",
       "    <th>1</th>\n",
       "    <th>3.246340</th>\n",
       "    <th>3.369053</th>\n",
       "    <th>0.384149</th>\n",
       "  </tr>\n",
       "  <tr>\n",
       "    <th>2</th>\n",
       "    <th>3.183111</th>\n",
       "    <th>3.328109</th>\n",
       "    <th>0.384929</th>\n",
       "  </tr>\n",
       "  <tr>\n",
       "\n",
       "  </tr>\n",
       "</table>\n",
       "\n",
       "\n",
       "    <div>\n",
       "        <style>\n",
       "        \t/* Turns off some styling */\n",
       "        \tprogress {\n",
       "\n",
       "            \t/* gets rid of default border in Firefox and Opera. */\n",
       "            \tborder: none;\n",
       "\n",
       "            \t/* Needs to be in here for Safari polyfill so background images work as expected. */\n",
       "            \tbackground-size: auto;\n",
       "            }\n",
       "\n",
       "            .progress-bar-interrupted, .progress-bar-interrupted::-webkit-progress-bar {\n",
       "                background: #F44336;\n",
       "            }\n",
       "        </style>\n",
       "      <progress value='3930' class='' max='12266', style='width:300px; height:20px; vertical-align: middle;'></progress>\n",
       "      32.04% [3930/12266 01:34<03:21 3.3053]\n",
       "    </div>\n",
       "    "
      ],
      "text/plain": [
       "<IPython.core.display.HTML object>"
      ]
     },
     "metadata": {},
     "output_type": "display_data"
    }
   ],
   "source": [
    "learn.fit(epochs=10, lr=1e-6)"
   ]
  }
 ],
 "metadata": {
  "kernelspec": {
   "display_name": "Python 3",
   "language": "python",
   "name": "python3"
  },
  "language_info": {
   "codemirror_mode": {
    "name": "ipython",
    "version": 3
   },
   "file_extension": ".py",
   "mimetype": "text/x-python",
   "name": "python",
   "nbconvert_exporter": "python",
   "pygments_lexer": "ipython3",
   "version": "3.6.5"
  }
 },
 "nbformat": 4,
 "nbformat_minor": 2
}
