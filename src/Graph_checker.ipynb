{
 "cells": [
  {
   "cell_type": "code",
   "execution_count": 1,
   "metadata": {},
   "outputs": [],
   "source": [
    "%load_ext autoreload\n",
    "%autoreload 2"
   ]
  },
  {
   "cell_type": "code",
   "execution_count": 2,
   "metadata": {},
   "outputs": [],
   "source": [
    "import matplotlib\n",
    "matplotlib.use('agg')\n",
    "%matplotlib inline\n",
    "import matplotlib.pyplot as plt"
   ]
  },
  {
   "cell_type": "code",
   "execution_count": 34,
   "metadata": {},
   "outputs": [],
   "source": [
    "from graph_creator import get_default_graph"
   ]
  },
  {
   "cell_type": "code",
   "execution_count": 35,
   "metadata": {},
   "outputs": [
    {
     "name": "stderr",
     "output_type": "stream",
     "text": [
      "100%|██████████| 1145341/1145341 [02:25<00:00, 7856.85it/s]\n"
     ]
    }
   ],
   "source": [
    "grapher = get_default_graph()"
   ]
  },
  {
   "cell_type": "code",
   "execution_count": 36,
   "metadata": {},
   "outputs": [
    {
     "data": {
      "text/plain": [
       "569"
      ]
     },
     "execution_count": 36,
     "metadata": {},
     "output_type": "execute_result"
    }
   ],
   "source": [
    "len(grapher.G.edges())"
   ]
  },
  {
   "cell_type": "code",
   "execution_count": 37,
   "metadata": {},
   "outputs": [],
   "source": [
    "import pickle"
   ]
  },
  {
   "cell_type": "code",
   "execution_count": 38,
   "metadata": {},
   "outputs": [],
   "source": [
    "pickle.dump(grapher, open('grapher_low_filtered_high_sim_thresh.pkl', 'wb'))"
   ]
  },
  {
   "cell_type": "code",
   "execution_count": 39,
   "metadata": {},
   "outputs": [],
   "source": [
    "grapher_read = pickle.load(open('grapher_low_filtered_high_sim_thresh.pkl', 'rb'))"
   ]
  },
  {
   "cell_type": "code",
   "execution_count": 40,
   "metadata": {},
   "outputs": [],
   "source": [
    "l1 = list(grapher_read.G.nodes())"
   ]
  },
  {
   "cell_type": "code",
   "execution_count": 41,
   "metadata": {},
   "outputs": [],
   "source": [
    "l2 = list(grapher_read.G.edges(data=True))"
   ]
  },
  {
   "cell_type": "code",
   "execution_count": 48,
   "metadata": {},
   "outputs": [],
   "source": [
    "import community\n",
    "import networkx as nx\n",
    "import pandas as pd"
   ]
  },
  {
   "cell_type": "code",
   "execution_count": 49,
   "metadata": {},
   "outputs": [],
   "source": [
    "louvain_communities = community.best_partition(grapher_read.G, weight='weight2')"
   ]
  },
  {
   "cell_type": "code",
   "execution_count": 50,
   "metadata": {},
   "outputs": [],
   "source": [
    "comm = pd.DataFrame(list(louvain_communities.items()), columns=['node', 'cluster'], dtype=str)"
   ]
  },
  {
   "cell_type": "code",
   "execution_count": 51,
   "metadata": {},
   "outputs": [],
   "source": [
    "groups = comm.groupby('cluster')['node'].apply(list)"
   ]
  },
  {
   "cell_type": "code",
   "execution_count": 52,
   "metadata": {},
   "outputs": [
    {
     "name": "stdout",
     "output_type": "stream",
     "text": [
      "['science', 'technology', 'news', 'nature', 'history', 'search', 'spirituality', 'fitness', 'guitar', 'laptop', 'vent', 'divorce', 'furniture', 'debt', 'advice', 'trade', 'nanowrimo', 'entrepreneur', 'diet', 'family', 'massage', 'confession', 'barter', 'nutrition', 'rape', 'depression', 'life', 'insurance', 'immigration', 'longevity', 'minimalism', 'fanfiction', 'romance', 'infidelity', 'enhancement', 'fragrance', 'cofounder', 'dropship', 'posture']:39\n",
      "['politics', 'gadgets', 'podcasts', 'startups', 'books', 'jokes', 'drugs', 'supplements', 'quotes', 'statistics', 'dogs', 'rants', 'stories', 'sales', 'deals', 'facts', 'riddles', 'mathematics', 'stocks', 'relationships', 'answers', 'mortgages', 'personals', 'themes', 'trailers', 'confessions', 'audiobooks', 'poems', 'hobbies', 'phones', 'entrepreneurs', 'smartphones', 'televisions', 'datasets', 'homeowners', 'fabrics', 'linuxquestions', 'favors', 'adwords', 'tablets', 'aspergers', 'emoticons', 'internships', 'askmen', 'toastmasters', 'cookbooks', 'antidepressants', 'scholarships', 'toddlers', 'dietetics', 'painters', 'crushes', 'flicks', 'spikes', 'acorns']:55\n",
      "['pokemonplaza', 'festivalplaza']:2\n",
      "['mathhelp', 'homeworkhelp', 'applehelp', 'blenderhelp']:4\n",
      "['destinysherpa', 'cruciblesherpa']:2\n",
      "['affiliatemarketing', 'content_marketing']:2\n",
      "['television', 'cooking', 'dating', 'investing', 'blogging', 'marketing', 'parenting', 'basketball', 'advertising', 'cycling', 'networking', 'shopping', 'trading', 'driving', 'branding', 'banking', 'shaving', 'singing', 'questioning', 'proofreading', 'babywearing', 'homemaking', 'churning']:23\n",
      "['self', 'career']:2\n",
      "['careeradvice', 'careerguidance', 'career_advice']:3\n",
      "['ask', 'borrow']:2\n",
      "['twitch', 'switch']:2\n",
      "['digitalmarketing', 'digital_marketing']:2\n",
      "['yardsale', 'seedswap', 'gameswap', 'yarnswap', 'hardwareswap', 'gameshare', 'knife_swap', 'appleswap', 'gamesale']:9\n",
      "['beergeek', 'collegeinfogeek']:2\n",
      "['giftcardexchange', 'rocketleaguecoaching', 'rocketleagueexchange']:3\n",
      "['realestate', 'real_estate']:2\n",
      "['food_pantry', 'food_bank']:2\n",
      "['lonely', 'angry', 'pregnant']:3\n",
      "['stockmarket', 'photomarket', 'stocknews', 'legomarket']:4\n",
      "['christian', 'german', 'korean', 'portuguese']:4\n",
      "['truetf2', 'darksouls3']:2\n",
      "['bookclub', 'bookexchange', 'philosophybookclub', 'bettermentbookclub', 'movie_club']:5\n",
      "['homeimprovement', 'homesecurity', 'homenetworking']:3\n",
      "['tabled', 'awakened']:2\n",
      "['selfimprovement', 'lifeimprovement']:2\n",
      "['webmarketing', 'web_development']:2\n",
      "['diablo', 'bungie']:2\n",
      "['bass', 'catfish']:2\n",
      "['rpg', 'photoshop', 'ecommerce', 'ccna', 'anthropology', 'gerd', 'genealogy', 'sysadmin', 'autocad', 'ppc', 'pygame', 'mattress', 'cfa', 'revit', 'tinnitus', 'gue', 'comptia', 'futurology', 'gallifrey']:19\n",
      "['4ktv', '40klore']:2\n",
      "['monsterhunterclan', 'monsterhuntermeta']:2\n"
     ]
    }
   ],
   "source": [
    "for grp in groups:\n",
    "    if len(grp)>1:  # Discard any community with only one node\n",
    "        print('{}:{}'.format(grp, len(grp)))  # [nodes in a community]:[size of the community]"
   ]
  },
  {
   "cell_type": "code",
   "execution_count": 43,
   "metadata": {},
   "outputs": [],
   "source": [
    "from networkx.algorithms import community"
   ]
  },
  {
   "cell_type": "code",
   "execution_count": 44,
   "metadata": {},
   "outputs": [],
   "source": [
    "c = list(community.greedy_modularity_communities(grapher_read.G))"
   ]
  },
  {
   "cell_type": "code",
   "execution_count": 53,
   "metadata": {},
   "outputs": [
    {
     "name": "stdout",
     "output_type": "stream",
     "text": [
      "['entrepreneurs', 'supplements', 'startups', 'painters', 'confessions', 'themes', 'aspergers', 'personals', 'jokes', 'quotes', 'phones', 'stories', 'emoticons', 'internships', 'relationships', 'poems', 'antidepressants', 'mortgages', 'gadgets', 'politics', 'statistics', 'drugs', 'mathematics', 'dietetics', 'acorns', 'rants', 'datasets', 'fabrics', 'dogs', 'askmen', 'sales', 'deals', 'crushes', 'spikes', 'televisions', 'toddlers', 'trailers', 'homeowners', 'linuxquestions', 'cookbooks', 'smartphones', 'flicks', 'podcasts', 'answers', 'stocks', 'facts', 'adwords', 'scholarships', 'riddles', 'books', 'audiobooks', 'favors', 'tablets', 'hobbies', 'toastmasters']: 55\n",
      "['science', 'ppc', 'insurance', 'comptia', 'spirituality', 'divorce', 'photoshop', 'cofounder', 'immigration', 'life', 'massage', 'romance', 'news', 'nanowrimo', 'infidelity', 'enhancement', 'guitar', 'confession', 'debt', 'furniture', 'barter', 'minimalism', 'advice', 'search', 'fanfiction', 'posture', 'technology', 'nutrition', 'ecommerce', 'fitness', 'family', 'entrepreneur', 'laptop', 'rape', 'nature', 'vent', 'ccna', 'trade', 'diet', 'gallifrey', 'fragrance', 'longevity', 'history', 'depression', 'dropship']: 45\n",
      "['shaving', 'television', 'parenting', 'branding', 'cycling', 'questioning', 'cooking', 'basketball', 'networking', 'banking', 'driving', 'advertising', 'babywearing', 'homemaking', 'investing', 'churning', 'proofreading', 'singing', 'shopping', 'blogging', 'trading', 'marketing', 'dating']: 23\n",
      "['genealogy', 'autocad', 'rpg', 'gerd', 'futurology', 'pygame', 'anthropology', 'cfa', 'sysadmin', 'mattress', 'revit', 'gue', 'tinnitus']: 13\n",
      "['gameshare', 'seedswap', 'appleswap', 'gameswap', 'gamesale', 'yarnswap', 'yardsale', 'knife_swap', 'hardwareswap']: 9\n",
      "['bookexchange', 'bettermentbookclub', 'movie_club', 'philosophybookclub', 'bookclub']: 5\n",
      "['portuguese', 'christian', 'korean', 'german']: 4\n",
      "['blenderhelp', 'mathhelp', 'applehelp', 'homeworkhelp']: 4\n",
      "['stockmarket', 'stocknews', 'legomarket', 'photomarket']: 4\n",
      "['pregnant', 'angry', 'lonely']: 3\n",
      "['homenetworking', 'homeimprovement', 'homesecurity']: 3\n",
      "['careeradvice', 'careerguidance', 'career_advice']: 3\n",
      "['rocketleagueexchange', 'rocketleaguecoaching', 'giftcardexchange']: 3\n",
      "['web_development', 'webmarketing']: 2\n",
      "['self', 'career']: 2\n",
      "['real_estate', 'realestate']: 2\n",
      "['bungie', 'diablo']: 2\n",
      "['switch', 'twitch']: 2\n",
      "['lifeimprovement', 'selfimprovement']: 2\n",
      "['awakened', 'tabled']: 2\n",
      "['bass', 'catfish']: 2\n",
      "['digital_marketing', 'digitalmarketing']: 2\n",
      "['darksouls3', 'truetf2']: 2\n",
      "['content_marketing', 'affiliatemarketing']: 2\n",
      "['4ktv', '40klore']: 2\n",
      "['borrow', 'ask']: 2\n",
      "['food_pantry', 'food_bank']: 2\n",
      "['cruciblesherpa', 'destinysherpa']: 2\n",
      "['beergeek', 'collegeinfogeek']: 2\n",
      "['pokemonplaza', 'festivalplaza']: 2\n",
      "['monsterhunterclan', 'monsterhuntermeta']: 2\n"
     ]
    }
   ],
   "source": [
    "for c1 in c:\n",
    "    if len(c1) > 1:\n",
    "        c2 = [str(c11) for c11 in c1]\n",
    "        print('{}: {}'.format(c2, len(c1)))"
   ]
  },
  {
   "cell_type": "code",
   "execution_count": 54,
   "metadata": {},
   "outputs": [
    {
     "name": "stdout",
     "output_type": "stream",
     "text": [
      "[55, 45, 23, 13, 9, 5, 4, 4, 4, 3, 3, 3, 3, 2, 2, 2, 2, 2, 2, 2, 2, 2, 2, 2, 2, 2, 2, 2, 2, 2, 2, 1, 1, 1, 1, 1, 1, 1, 1, 1, 1, 1, 1, 1, 1, 1, 1, 1, 1, 1, 1, 1, 1, 1, 1, 1, 1, 1, 1, 1, 1, 1, 1, 1, 1, 1, 1, 1, 1, 1, 1, 1, 1, 1, 1, 1, 1, 1, 1, 1, 1, 1, 1, 1, 1, 1, 1, 1, 1, 1, 1, 1, 1, 1, 1, 1, 1, 1, 1, 1, 1, 1, 1, 1, 1, 1, 1, 1, 1, 1, 1, 1, 1, 1, 1, 1, 1, 1, 1, 1, 1, 1, 1, 1, 1, 1, 1, 1, 1, 1, 1, 1, 1, 1, 1, 1, 1, 1, 1, 1, 1, 1, 1, 1, 1, 1, 1, 1, 1, 1, 1, 1, 1, 1, 1, 1, 1, 1, 1, 1, 1, 1, 1, 1, 1, 1, 1, 1, 1, 1, 1, 1, 1, 1, 1, 1, 1, 1, 1, 1, 1, 1, 1, 1, 1, 1, 1, 1, 1, 1, 1, 1, 1, 1, 1, 1, 1, 1, 1, 1, 1, 1, 1, 1, 1, 1, 1, 1, 1, 1, 1, 1, 1, 1, 1, 1, 1, 1, 1, 1, 1, 1, 1, 1, 1, 1, 1, 1, 1, 1, 1, 1, 1, 1, 1, 1, 1, 1, 1, 1, 1, 1, 1, 1, 1, 1, 1, 1, 1, 1, 1, 1, 1, 1, 1, 1, 1, 1, 1, 1, 1, 1, 1, 1, 1, 1, 1, 1, 1, 1, 1, 1, 1, 1, 1, 1, 1, 1, 1, 1, 1, 1, 1, 1, 1, 1, 1, 1, 1, 1, 1, 1, 1, 1, 1, 1, 1, 1, 1, 1, 1, 1, 1, 1, 1, 1, 1, 1, 1, 1, 1, 1, 1, 1, 1, 1, 1, 1, 1, 1, 1, 1, 1, 1, 1, 1, 1, 1, 1, 1, 1, 1, 1, 1, 1, 1, 1, 1, 1, 1, 1, 1, 1, 1, 1, 1, 1, 1, 1, 1, 1, 1, 1, 1, 1, 1, 1, 1, 1, 1, 1, 1, 1, 1, 1, 1, 1, 1, 1, 1, 1, 1, 1, 1, 1, 1, 1, 1, 1, 1, 1, 1, 1, 1, 1, 1, 1, 1, 1, 1, 1, 1, 1, 1, 1, 1, 1, 1, 1, 1, 1, 1, 1, 1, 1, 1, 1, 1, 1, 1, 1, 1, 1, 1, 1, 1, 1, 1, 1, 1, 1, 1, 1, 1, 1, 1, 1, 1, 1, 1, 1, 1, 1, 1, 1, 1, 1, 1, 1, 1, 1, 1, 1, 1, 1, 1, 1, 1, 1, 1, 1, 1, 1, 1, 1, 1, 1, 1, 1, 1, 1, 1, 1, 1, 1, 1, 1, 1, 1, 1, 1, 1, 1, 1, 1, 1, 1, 1, 1, 1, 1, 1, 1, 1, 1, 1, 1, 1, 1, 1, 1, 1, 1, 1, 1, 1, 1, 1, 1, 1, 1, 1, 1, 1, 1, 1, 1, 1, 1, 1, 1, 1, 1, 1, 1, 1, 1, 1, 1, 1, 1, 1, 1, 1, 1, 1, 1, 1, 1, 1, 1, 1, 1, 1, 1, 1, 1, 1, 1, 1, 1, 1, 1, 1, 1, 1, 1, 1, 1, 1, 1, 1, 1, 1, 1, 1, 1, 1, 1, 1, 1, 1, 1, 1, 1, 1, 1, 1, 1, 1, 1, 1, 1, 1, 1, 1, 1, 1, 1, 1, 1, 1, 1, 1, 1, 1, 1, 1, 1, 1, 1, 1, 1, 1, 1, 1, 1, 1, 1, 1, 1, 1, 1, 1, 1, 1, 1, 1, 1, 1, 1, 1, 1, 1, 1, 1, 1, 1, 1, 1, 1, 1, 1, 1, 1, 1, 1, 1, 1, 1, 1, 1, 1, 1, 1, 1, 1, 1, 1, 1, 1, 1, 1, 1, 1, 1, 1, 1, 1, 1, 1, 1, 1, 1, 1, 1, 1, 1, 1, 1, 1, 1, 1, 1, 1, 1, 1, 1, 1, 1, 1, 1, 1, 1, 1, 1, 1, 1, 1, 1, 1, 1, 1, 1, 1, 1, 1, 1, 1, 1, 1, 1, 1, 1, 1, 1, 1, 1, 1, 1, 1, 1, 1, 1, 1, 1, 1, 1, 1, 1, 1, 1, 1, 1, 1, 1, 1, 1, 1, 1, 1, 1, 1, 1, 1, 1, 1, 1, 1, 1, 1, 1, 1, 1, 1, 1, 1, 1, 1, 1, 1, 1, 1, 1, 1, 1, 1, 1, 1, 1, 1, 1, 1, 1, 1, 1, 1, 1, 1, 1, 1, 1, 1, 1, 1, 1, 1, 1, 1, 1, 1, 1, 1, 1, 1, 1, 1, 1, 1, 1, 1, 1, 1, 1, 1, 1, 1, 1, 1, 1, 1, 1, 1, 1, 1, 1, 1, 1, 1, 1, 1, 1, 1, 1, 1, 1, 1, 1, 1, 1, 1, 1, 1, 1, 1, 1, 1, 1, 1, 1, 1, 1, 1, 1, 1, 1, 1, 1, 1, 1, 1, 1, 1, 1, 1, 1, 1, 1, 1, 1, 1, 1, 1, 1, 1, 1, 1, 1, 1, 1, 1, 1, 1, 1, 1, 1, 1, 1, 1, 1, 1, 1, 1, 1, 1, 1, 1, 1, 1, 1, 1, 1, 1, 1, 1, 1, 1, 1, 1, 1, 1, 1, 1, 1, 1, 1, 1, 1, 1, 1, 1, 1, 1, 1, 1, 1, 1, 1, 1, 1, 1, 1, 1, 1, 1, 1, 1, 1, 1, 1, 1, 1, 1, 1, 1, 1, 1, 1, 1, 1, 1, 1, 1, 1, 1, 1, 1, 1, 1, 1, 1, 1, 1, 1, 1, 1, 1, 1, 1, 1, 1, 1, 1, 1, 1, 1, 1, 1, 1, 1, 1, 1, 1, 1, 1, 1, 1, 1, 1, 1, 1, 1, 1, 1, 1, 1, 1, 1, 1, 1, 1, 1, 1, 1, 1, 1, 1, 1, 1, 1, 1, 1, 1, 1, 1, 1, 1, 1, 1, 1, 1, 1, 1, 1, 1, 1, 1, 1, 1, 1, 1, 1, 1, 1, 1, 1, 1, 1, 1, 1, 1, 1, 1, 1, 1, 1, 1, 1, 1, 1, 1, 1, 1, 1, 1, 1, 1, 1, 1, 1, 1, 1, 1, 1, 1, 1, 1, 1, 1, 1, 1, 1, 1, 1, 1, 1, 1, 1, 1, 1, 1, 1, 1, 1, 1, 1, 1, 1, 1, 1, 1, 1, 1, 1, 1, 1, 1, 1, 1, 1, 1, 1, 1, 1, 1, 1, 1, 1, 1, 1, 1, 1, 1, 1, 1, 1, 1, 1, 1, 1, 1, 1, 1, 1, 1, 1, 1, 1, 1, 1, 1, 1, 1, 1, 1, 1, 1, 1, 1, 1, 1, 1, 1, 1, 1, 1, 1, 1, 1, 1, 1, 1, 1, 1, 1, 1, 1, 1, 1, 1, 1, 1, 1, 1, 1, 1, 1, 1, 1, 1, 1, 1, 1, 1, 1, 1, 1, 1, 1, 1, 1, 1, 1, 1, 1, 1, 1, 1, 1, 1, 1, 1, 1, 1, 1, 1, 1, 1, 1, 1, 1, 1, 1, 1, 1, 1, 1, 1, 1, 1, 1, 1, 1, 1, 1, 1, 1, 1, 1, 1, 1, 1, 1, 1, 1, 1, 1, 1, 1, 1, 1, 1, 1, 1, 1, 1, 1, 1, 1, 1, 1, 1, 1, 1, 1, 1, 1, 1, 1, 1, 1, 1, 1, 1, 1, 1, 1, 1, 1, 1, 1, 1, 1, 1, 1, 1, 1, 1, 1, 1, 1, 1, 1, 1, 1, 1, 1, 1, 1, 1, 1, 1, 1, 1, 1, 1, 1, 1, 1, 1, 1, 1, 1, 1, 1, 1, 1, 1, 1, 1, 1, 1, 1, 1, 1, 1, 1, 1, 1, 1, 1, 1, 1, 1, 1, 1, 1, 1, 1, 1, 1, 1, 1, 1, 1, 1, 1, 1, 1, 1, 1, 1, 1, 1, 1, 1, 1, 1, 1, 1, 1, 1, 1, 1, 1, 1, 1, 1, 1, 1, 1, 1, 1, 1, 1, 1, 1, 1, 1, 1, 1, 1, 1, 1, 1]\n"
     ]
    }
   ],
   "source": [
    "print([len(c1) for c1 in c])"
   ]
  },
  {
   "cell_type": "markdown",
   "metadata": {},
   "source": [
    "Somewhat decent results, but not good enough"
   ]
  }
 ],
 "metadata": {
  "kernelspec": {
   "display_name": "Python 3",
   "language": "python",
   "name": "python3"
  },
  "language_info": {
   "codemirror_mode": {
    "name": "ipython",
    "version": 3
   },
   "file_extension": ".py",
   "mimetype": "text/x-python",
   "name": "python",
   "nbconvert_exporter": "python",
   "pygments_lexer": "ipython3",
   "version": "3.7.0"
  }
 },
 "nbformat": 4,
 "nbformat_minor": 2
}
