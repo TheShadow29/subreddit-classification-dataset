{
 "cells": [
  {
   "cell_type": "markdown",
   "metadata": {},
   "source": [
    "# Confusion Matrix"
   ]
  },
  {
   "cell_type": "code",
   "execution_count": 47,
   "metadata": {},
   "outputs": [],
   "source": [
    "import matplotlib.pyplot as plt"
   ]
  },
  {
   "cell_type": "code",
   "execution_count": 3,
   "metadata": {},
   "outputs": [],
   "source": [
    "from spacy_classifier_simple import do_simple_tfidf, load_data"
   ]
  },
  {
   "cell_type": "code",
   "execution_count": 14,
   "metadata": {},
   "outputs": [],
   "source": [
    "import numpy as np"
   ]
  },
  {
   "cell_type": "code",
   "execution_count": 2,
   "metadata": {},
   "outputs": [
    {
     "name": "stdout",
     "output_type": "stream",
     "text": [
      "Starting to Fit\n",
      "Starting Evaluation\n",
      "Test Accuracy is 70.03921568627452\n"
     ]
    }
   ],
   "source": [
    "text_clr_lr = do_simple_tfidf(from_pickle='./tfidf_coarse_trained.pkl')"
   ]
  },
  {
   "cell_type": "code",
   "execution_count": 4,
   "metadata": {},
   "outputs": [],
   "source": [
    "(clean_train_data, clean_train_label), (clean_val_data,\n",
    "                                        clean_val_label) = load_data(\n",
    "                                            limit=200000, domap=True)"
   ]
  },
  {
   "cell_type": "code",
   "execution_count": 8,
   "metadata": {},
   "outputs": [],
   "source": [
    "predictions = text_clr_lr.predict(clean_val_data)"
   ]
  },
  {
   "cell_type": "code",
   "execution_count": 9,
   "metadata": {},
   "outputs": [
    {
     "data": {
      "text/plain": [
       "array([ 1, 13,  8, ...,  9,  5, 10])"
      ]
     },
     "execution_count": 9,
     "metadata": {},
     "output_type": "execute_result"
    }
   ],
   "source": [
    "predictions"
   ]
  },
  {
   "cell_type": "code",
   "execution_count": 16,
   "metadata": {},
   "outputs": [],
   "source": [
    "val_labels = np.array(list(clean_val_label))"
   ]
  },
  {
   "cell_type": "code",
   "execution_count": 18,
   "metadata": {},
   "outputs": [],
   "source": [
    "from pycm import *"
   ]
  },
  {
   "cell_type": "code",
   "execution_count": 19,
   "metadata": {},
   "outputs": [],
   "source": [
    "cm = ConfusionMatrix(actual_vector=val_labels, predict_vector=predictions)"
   ]
  },
  {
   "cell_type": "code",
   "execution_count": 44,
   "metadata": {},
   "outputs": [
    {
     "name": "stdout",
     "output_type": "stream",
     "text": [
      "303\n"
     ]
    }
   ],
   "source": [
    "cm_mat = np.zeros((17, 17))\n",
    "for k, v in cm.matrix.items():\n",
    "    for k1, v1 in v.items():\n",
    "        if k == 16 and k1 == 16:\n",
    "            print(v1)\n",
    "        cm_mat[k, k1] = v1"
   ]
  },
  {
   "cell_type": "code",
   "execution_count": 46,
   "metadata": {},
   "outputs": [
    {
     "data": {
      "text/plain": [
       "array([[231.,   7.,   0.,   9.,   2.,   4.,   6.,   1.,   6.,   4.,   2.,\n",
       "          3.,   3.,   8.,  13.,   3.,   0.],\n",
       "       [  9., 184.,   6.,   9.,  10.,  12.,   4.,   0.,  32.,   6.,   0.,\n",
       "          3.,   2.,   2.,   7.,   5.,   0.],\n",
       "       [  1.,   3., 200.,   5.,   0.,  24.,   2.,   0.,   1.,   2.,   2.,\n",
       "          2.,   5.,   2.,   7.,   4.,   0.],\n",
       "       [  8.,   7.,   2., 126.,   5.,  10.,   4.,   2.,   8.,  16.,  13.,\n",
       "         12.,  10.,  23.,  13.,  14.,   0.],\n",
       "       [  2.,   4.,   1.,   1., 210.,   0.,  19.,   0.,  10.,  11.,   9.,\n",
       "          0.,   3.,   4.,  20.,   0.,   0.],\n",
       "       [  0.,  15.,  45.,  12.,   0., 205.,   1.,   0.,  15.,   6.,   2.,\n",
       "          2.,   2.,   2.,   6.,   0.,   0.],\n",
       "       [  5.,   2.,   2.,   2.,  11.,   1., 222.,   0.,   1.,   3.,   9.,\n",
       "          4.,   9.,   7.,  13.,   6.,   0.],\n",
       "       [  1.,   0.,   0.,   0.,   0.,   1.,   0., 283.,   0.,   1.,   0.,\n",
       "          0.,   0.,   0.,   1.,   0.,   0.],\n",
       "       [  4.,  20.,   4.,   7.,   8.,   8.,   3.,   1., 222.,   5.,   2.,\n",
       "          4.,   3.,   2.,   7.,   1.,   0.],\n",
       "       [  8.,   2.,   1.,  10.,   8.,  15.,   2.,   0.,  12., 207.,   6.,\n",
       "          4.,   5.,   7.,   6.,   3.,   0.],\n",
       "       [  7.,   5.,   3.,  24.,  20.,   5.,  23.,   3.,   5.,  13., 138.,\n",
       "          5.,  10.,  27.,  19.,   5.,   0.],\n",
       "       [  6.,   3.,  13.,  13.,   6.,   7.,   6.,   1.,   3.,   8.,   7.,\n",
       "        218.,   4.,   5.,  12.,   8.,   0.],\n",
       "       [  3.,   5.,   0.,   7.,   3.,   0.,   8.,   0.,   1.,   1.,   2.,\n",
       "          1., 238.,   8.,  10.,   3.,   0.],\n",
       "       [  9.,   4.,   0.,  24.,   6.,   2.,   8.,   1.,   3.,  10.,  12.,\n",
       "          2.,   8., 194.,  16.,   7.,   0.],\n",
       "       [ 28.,  14.,   0.,  15.,  23.,   3.,   7.,   1.,   6.,   7.,  13.,\n",
       "          3.,   8.,  16., 179.,   6.,   0.],\n",
       "       [  3.,   2.,  13.,  28.,   4.,   6.,   3.,   0.,   1.,   9.,   3.,\n",
       "          5.,   6.,  12.,   8., 212.,   0.],\n",
       "       [  0.,   0.,   0.,   0.,   6.,   0.,   1.,   0.,   0.,   0.,   3.,\n",
       "          1.,   0.,   0.,   0.,   0., 303.]])"
      ]
     },
     "execution_count": 46,
     "metadata": {},
     "output_type": "execute_result"
    }
   ],
   "source": [
    "cm_mat"
   ]
  },
  {
   "cell_type": "code",
   "execution_count": 52,
   "metadata": {},
   "outputs": [
    {
     "data": {
      "image/png": "[encoded data removed]",
      "text/plain": [
       "<Figure size 288x288 with 1 Axes>"
      ]
     },
     "metadata": {
      "needs_background": "light"
     },
     "output_type": "display_data"
    }
   ],
   "source": [
    "fig = plt.matshow(cm_mat)\n",
    "fig = fig.get_figure()"
   ]
  },
  {
   "cell_type": "code",
   "execution_count": 55,
   "metadata": {},
   "outputs": [],
   "source": [
    "fig.savefig('coarse_conf_tfidf.png', bbox_inches='tight')"
   ]
  }
 ],
 "metadata": {
  "kernelspec": {
   "display_name": "Python 3",
   "language": "python",
   "name": "python3"
  },
  "language_info": {
   "codemirror_mode": {
    "name": "ipython",
    "version": 3
   },
   "file_extension": ".py",
   "mimetype": "text/x-python",
   "name": "python",
   "nbconvert_exporter": "python",
   "pygments_lexer": "ipython3",
   "version": "3.7.0"
  }
 },
 "nbformat": 4,
 "nbformat_minor": 2
}
